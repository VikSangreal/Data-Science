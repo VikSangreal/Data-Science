{
 "cells": [
  {
   "cell_type": "code",
   "execution_count": 2,
   "metadata": {},
   "outputs": [],
   "source": [
    "import pandas as pd\n",
    "import numpy as np\n",
    "import matplotlib.pyplot as plt\n",
    "import seaborn as sns\n",
    "from sklearn.model_selection import train_test_split"
   ]
  },
  {
   "cell_type": "code",
   "execution_count": 73,
   "metadata": {},
   "outputs": [
    {
     "data": {
      "text/html": [
       "<div>\n",
       "<style scoped>\n",
       "    .dataframe tbody tr th:only-of-type {\n",
       "        vertical-align: middle;\n",
       "    }\n",
       "\n",
       "    .dataframe tbody tr th {\n",
       "        vertical-align: top;\n",
       "    }\n",
       "\n",
       "    .dataframe thead th {\n",
       "        text-align: right;\n",
       "    }\n",
       "</style>\n",
       "<table border=\"1\" class=\"dataframe\">\n",
       "  <thead>\n",
       "    <tr style=\"text-align: right;\">\n",
       "      <th></th>\n",
       "      <th>price</th>\n",
       "      <th>area</th>\n",
       "      <th>bedrooms</th>\n",
       "      <th>bathrooms</th>\n",
       "      <th>stories</th>\n",
       "      <th>mainroad</th>\n",
       "      <th>guestroom</th>\n",
       "      <th>basement</th>\n",
       "      <th>hotwaterheating</th>\n",
       "      <th>airconditioning</th>\n",
       "      <th>parking</th>\n",
       "      <th>prefarea</th>\n",
       "      <th>furnishingstatus</th>\n",
       "    </tr>\n",
       "  </thead>\n",
       "  <tbody>\n",
       "    <tr>\n",
       "      <td>0</td>\n",
       "      <td>13300000</td>\n",
       "      <td>7420</td>\n",
       "      <td>4</td>\n",
       "      <td>2</td>\n",
       "      <td>3</td>\n",
       "      <td>yes</td>\n",
       "      <td>no</td>\n",
       "      <td>no</td>\n",
       "      <td>no</td>\n",
       "      <td>yes</td>\n",
       "      <td>2</td>\n",
       "      <td>yes</td>\n",
       "      <td>furnished</td>\n",
       "    </tr>\n",
       "    <tr>\n",
       "      <td>1</td>\n",
       "      <td>12250000</td>\n",
       "      <td>8960</td>\n",
       "      <td>4</td>\n",
       "      <td>4</td>\n",
       "      <td>4</td>\n",
       "      <td>yes</td>\n",
       "      <td>no</td>\n",
       "      <td>no</td>\n",
       "      <td>no</td>\n",
       "      <td>yes</td>\n",
       "      <td>3</td>\n",
       "      <td>no</td>\n",
       "      <td>furnished</td>\n",
       "    </tr>\n",
       "    <tr>\n",
       "      <td>2</td>\n",
       "      <td>12250000</td>\n",
       "      <td>9960</td>\n",
       "      <td>3</td>\n",
       "      <td>2</td>\n",
       "      <td>2</td>\n",
       "      <td>yes</td>\n",
       "      <td>no</td>\n",
       "      <td>yes</td>\n",
       "      <td>no</td>\n",
       "      <td>no</td>\n",
       "      <td>2</td>\n",
       "      <td>yes</td>\n",
       "      <td>semi-furnished</td>\n",
       "    </tr>\n",
       "    <tr>\n",
       "      <td>3</td>\n",
       "      <td>12215000</td>\n",
       "      <td>7500</td>\n",
       "      <td>4</td>\n",
       "      <td>2</td>\n",
       "      <td>2</td>\n",
       "      <td>yes</td>\n",
       "      <td>no</td>\n",
       "      <td>yes</td>\n",
       "      <td>no</td>\n",
       "      <td>yes</td>\n",
       "      <td>3</td>\n",
       "      <td>yes</td>\n",
       "      <td>furnished</td>\n",
       "    </tr>\n",
       "    <tr>\n",
       "      <td>4</td>\n",
       "      <td>11410000</td>\n",
       "      <td>7420</td>\n",
       "      <td>4</td>\n",
       "      <td>1</td>\n",
       "      <td>2</td>\n",
       "      <td>yes</td>\n",
       "      <td>yes</td>\n",
       "      <td>yes</td>\n",
       "      <td>no</td>\n",
       "      <td>yes</td>\n",
       "      <td>2</td>\n",
       "      <td>no</td>\n",
       "      <td>furnished</td>\n",
       "    </tr>\n",
       "  </tbody>\n",
       "</table>\n",
       "</div>"
      ],
      "text/plain": [
       "      price  area  bedrooms  bathrooms  stories mainroad guestroom basement  \\\n",
       "0  13300000  7420         4          2        3      yes        no       no   \n",
       "1  12250000  8960         4          4        4      yes        no       no   \n",
       "2  12250000  9960         3          2        2      yes        no      yes   \n",
       "3  12215000  7500         4          2        2      yes        no      yes   \n",
       "4  11410000  7420         4          1        2      yes       yes      yes   \n",
       "\n",
       "  hotwaterheating airconditioning  parking prefarea furnishingstatus  \n",
       "0              no             yes        2      yes        furnished  \n",
       "1              no             yes        3       no        furnished  \n",
       "2              no              no        2      yes   semi-furnished  \n",
       "3              no             yes        3      yes        furnished  \n",
       "4              no             yes        2       no        furnished  "
      ]
     },
     "execution_count": 73,
     "metadata": {},
     "output_type": "execute_result"
    }
   ],
   "source": [
    "df = pd.read_csv('Housing.csv')\n",
    "df.head()"
   ]
  },
  {
   "cell_type": "code",
   "execution_count": 4,
   "metadata": {},
   "outputs": [
    {
     "name": "stdout",
     "output_type": "stream",
     "text": [
      "<class 'pandas.core.frame.DataFrame'>\n",
      "RangeIndex: 545 entries, 0 to 544\n",
      "Data columns (total 13 columns):\n",
      "price               545 non-null int64\n",
      "area                545 non-null int64\n",
      "bedrooms            545 non-null int64\n",
      "bathrooms           545 non-null int64\n",
      "stories             545 non-null int64\n",
      "mainroad            545 non-null object\n",
      "guestroom           545 non-null object\n",
      "basement            545 non-null object\n",
      "hotwaterheating     545 non-null object\n",
      "airconditioning     545 non-null object\n",
      "parking             545 non-null int64\n",
      "prefarea            545 non-null object\n",
      "furnishingstatus    545 non-null object\n",
      "dtypes: int64(6), object(7)\n",
      "memory usage: 55.5+ KB\n"
     ]
    }
   ],
   "source": [
    "df.info()"
   ]
  },
  {
   "cell_type": "markdown",
   "metadata": {},
   "source": [
    "## Checking the Dependent Variable"
   ]
  },
  {
   "cell_type": "code",
   "execution_count": 6,
   "metadata": {},
   "outputs": [
    {
     "data": {
      "text/plain": [
       "count    5.450000e+02\n",
       "mean     4.766729e+06\n",
       "std      1.870440e+06\n",
       "min      1.750000e+06\n",
       "25%      3.430000e+06\n",
       "50%      4.340000e+06\n",
       "75%      5.740000e+06\n",
       "max      1.330000e+07\n",
       "Name: price, dtype: float64"
      ]
     },
     "execution_count": 6,
     "metadata": {},
     "output_type": "execute_result"
    }
   ],
   "source": [
    "df.price.describe()"
   ]
  },
  {
   "cell_type": "code",
   "execution_count": 5,
   "metadata": {},
   "outputs": [
    {
     "data": {
      "text/plain": [
       "<matplotlib.axes._subplots.AxesSubplot at 0xd5c51d0>"
      ]
     },
     "execution_count": 5,
     "metadata": {},
     "output_type": "execute_result"
    },
    {
     "data": {
      "image/png": "[encoded data removed]",
      "text/plain": [
       "<Figure size 432x288 with 1 Axes>"
      ]
     },
     "metadata": {
      "needs_background": "light"
     },
     "output_type": "display_data"
    }
   ],
   "source": [
    "sns.distplot(df.price)"
   ]
  },
  {
   "cell_type": "code",
   "execution_count": 7,
   "metadata": {},
   "outputs": [
    {
     "data": {
      "text/plain": [
       "semi-furnished    227\n",
       "unfurnished       178\n",
       "furnished         140\n",
       "Name: furnishingstatus, dtype: int64"
      ]
     },
     "execution_count": 7,
     "metadata": {},
     "output_type": "execute_result"
    }
   ],
   "source": [
    "df.furnishingstatus.value_counts()"
   ]
  },
  {
   "cell_type": "markdown",
   "metadata": {},
   "source": [
    "### Getting the categorical columns"
   ]
  },
  {
   "cell_type": "code",
   "execution_count": 10,
   "metadata": {},
   "outputs": [
    {
     "data": {
      "text/plain": [
       "['mainroad',\n",
       " 'guestroom',\n",
       " 'basement',\n",
       " 'hotwaterheating',\n",
       " 'airconditioning',\n",
       " 'prefarea',\n",
       " 'furnishingstatus']"
      ]
     },
     "execution_count": 10,
     "metadata": {},
     "output_type": "execute_result"
    }
   ],
   "source": [
    "categorical_cols = list(df.select_dtypes(include=['object']).columns)\n",
    "categorical_cols"
   ]
  },
  {
   "cell_type": "markdown",
   "metadata": {},
   "source": [
    "### Now applying dummification"
   ]
  },
  {
   "cell_type": "markdown",
   "metadata": {},
   "source": [
    "**drop_first=True will drop 1 column and that will be based alphabetial order and hence in Yes or No, No will be dropped**"
   ]
  },
  {
   "cell_type": "code",
   "execution_count": 11,
   "metadata": {},
   "outputs": [
    {
     "data": {
      "text/html": [
       "<div>\n",
       "<style scoped>\n",
       "    .dataframe tbody tr th:only-of-type {\n",
       "        vertical-align: middle;\n",
       "    }\n",
       "\n",
       "    .dataframe tbody tr th {\n",
       "        vertical-align: top;\n",
       "    }\n",
       "\n",
       "    .dataframe thead th {\n",
       "        text-align: right;\n",
       "    }\n",
       "</style>\n",
       "<table border=\"1\" class=\"dataframe\">\n",
       "  <thead>\n",
       "    <tr style=\"text-align: right;\">\n",
       "      <th></th>\n",
       "      <th>price</th>\n",
       "      <th>area</th>\n",
       "      <th>bedrooms</th>\n",
       "      <th>bathrooms</th>\n",
       "      <th>stories</th>\n",
       "      <th>parking</th>\n",
       "      <th>mainroad_yes</th>\n",
       "      <th>guestroom_yes</th>\n",
       "      <th>basement_yes</th>\n",
       "      <th>hotwaterheating_yes</th>\n",
       "      <th>airconditioning_yes</th>\n",
       "      <th>prefarea_yes</th>\n",
       "      <th>furnishingstatus_semi-furnished</th>\n",
       "      <th>furnishingstatus_unfurnished</th>\n",
       "    </tr>\n",
       "  </thead>\n",
       "  <tbody>\n",
       "    <tr>\n",
       "      <td>0</td>\n",
       "      <td>13300000</td>\n",
       "      <td>7420</td>\n",
       "      <td>4</td>\n",
       "      <td>2</td>\n",
       "      <td>3</td>\n",
       "      <td>2</td>\n",
       "      <td>1</td>\n",
       "      <td>0</td>\n",
       "      <td>0</td>\n",
       "      <td>0</td>\n",
       "      <td>1</td>\n",
       "      <td>1</td>\n",
       "      <td>0</td>\n",
       "      <td>0</td>\n",
       "    </tr>\n",
       "    <tr>\n",
       "      <td>1</td>\n",
       "      <td>12250000</td>\n",
       "      <td>8960</td>\n",
       "      <td>4</td>\n",
       "      <td>4</td>\n",
       "      <td>4</td>\n",
       "      <td>3</td>\n",
       "      <td>1</td>\n",
       "      <td>0</td>\n",
       "      <td>0</td>\n",
       "      <td>0</td>\n",
       "      <td>1</td>\n",
       "      <td>0</td>\n",
       "      <td>0</td>\n",
       "      <td>0</td>\n",
       "    </tr>\n",
       "    <tr>\n",
       "      <td>2</td>\n",
       "      <td>12250000</td>\n",
       "      <td>9960</td>\n",
       "      <td>3</td>\n",
       "      <td>2</td>\n",
       "      <td>2</td>\n",
       "      <td>2</td>\n",
       "      <td>1</td>\n",
       "      <td>0</td>\n",
       "      <td>1</td>\n",
       "      <td>0</td>\n",
       "      <td>0</td>\n",
       "      <td>1</td>\n",
       "      <td>1</td>\n",
       "      <td>0</td>\n",
       "    </tr>\n",
       "    <tr>\n",
       "      <td>3</td>\n",
       "      <td>12215000</td>\n",
       "      <td>7500</td>\n",
       "      <td>4</td>\n",
       "      <td>2</td>\n",
       "      <td>2</td>\n",
       "      <td>3</td>\n",
       "      <td>1</td>\n",
       "      <td>0</td>\n",
       "      <td>1</td>\n",
       "      <td>0</td>\n",
       "      <td>1</td>\n",
       "      <td>1</td>\n",
       "      <td>0</td>\n",
       "      <td>0</td>\n",
       "    </tr>\n",
       "    <tr>\n",
       "      <td>4</td>\n",
       "      <td>11410000</td>\n",
       "      <td>7420</td>\n",
       "      <td>4</td>\n",
       "      <td>1</td>\n",
       "      <td>2</td>\n",
       "      <td>2</td>\n",
       "      <td>1</td>\n",
       "      <td>1</td>\n",
       "      <td>1</td>\n",
       "      <td>0</td>\n",
       "      <td>1</td>\n",
       "      <td>0</td>\n",
       "      <td>0</td>\n",
       "      <td>0</td>\n",
       "    </tr>\n",
       "  </tbody>\n",
       "</table>\n",
       "</div>"
      ],
      "text/plain": [
       "      price  area  bedrooms  bathrooms  stories  parking  mainroad_yes  \\\n",
       "0  13300000  7420         4          2        3        2             1   \n",
       "1  12250000  8960         4          4        4        3             1   \n",
       "2  12250000  9960         3          2        2        2             1   \n",
       "3  12215000  7500         4          2        2        3             1   \n",
       "4  11410000  7420         4          1        2        2             1   \n",
       "\n",
       "   guestroom_yes  basement_yes  hotwaterheating_yes  airconditioning_yes  \\\n",
       "0              0             0                    0                    1   \n",
       "1              0             0                    0                    1   \n",
       "2              0             1                    0                    0   \n",
       "3              0             1                    0                    1   \n",
       "4              1             1                    0                    1   \n",
       "\n",
       "   prefarea_yes  furnishingstatus_semi-furnished  furnishingstatus_unfurnished  \n",
       "0             1                                0                             0  \n",
       "1             0                                0                             0  \n",
       "2             1                                1                             0  \n",
       "3             1                                0                             0  \n",
       "4             0                                0                             0  "
      ]
     },
     "execution_count": 11,
     "metadata": {},
     "output_type": "execute_result"
    }
   ],
   "source": [
    "dfc = pd.get_dummies(data=df,columns=categorical_cols,drop_first=True)\n",
    "dfc.head()"
   ]
  },
  {
   "cell_type": "code",
   "execution_count": 13,
   "metadata": {},
   "outputs": [
    {
     "data": {
      "text/plain": [
       "<matplotlib.axes._subplots.AxesSubplot at 0xdd56c18>"
      ]
     },
     "execution_count": 13,
     "metadata": {},
     "output_type": "execute_result"
    },
    {
     "data": {
      "image/png": "[encoded data removed]",
      "text/plain": [
       "<Figure size 432x288 with 1 Axes>"
      ]
     },
     "metadata": {
      "needs_background": "light"
     },
     "output_type": "display_data"
    }
   ],
   "source": [
    "sns.scatterplot(df.area,df.price)"
   ]
  },
  {
   "cell_type": "code",
   "execution_count": 14,
   "metadata": {},
   "outputs": [],
   "source": [
    "x = dfc.drop('price',axis=1)\n",
    "y = dfc.price"
   ]
  },
  {
   "cell_type": "code",
   "execution_count": 15,
   "metadata": {},
   "outputs": [],
   "source": [
    "x_train,x_test,y_train,y_test = train_test_split(x,y,test_size=0.3,random_state=42)"
   ]
  },
  {
   "cell_type": "markdown",
   "metadata": {},
   "source": [
    "## Linear Regression using Stats"
   ]
  },
  {
   "cell_type": "code",
   "execution_count": 25,
   "metadata": {},
   "outputs": [
    {
     "name": "stderr",
     "output_type": "stream",
     "text": [
      "C:\\Users\\KUS\\Anaconda3\\lib\\site-packages\\statsmodels\\compat\\pandas.py:49: FutureWarning: The Panel class is removed from pandas. Accessing it from the top-level namespace will also be removed in the next version\n",
      "  data_klasses = (pandas.Series, pandas.DataFrame, pandas.Panel)\n"
     ]
    }
   ],
   "source": [
    "import statsmodels.api as sm"
   ]
  },
  {
   "cell_type": "code",
   "execution_count": 28,
   "metadata": {},
   "outputs": [
    {
     "data": {
      "text/html": [
       "<table class=\"simpletable\">\n",
       "<caption>OLS Regression Results</caption>\n",
       "<tr>\n",
       "  <th>Dep. Variable:</th>          <td>price</td>      <th>  R-squared:         </th> <td>   0.693</td> \n",
       "</tr>\n",
       "<tr>\n",
       "  <th>Model:</th>                   <td>OLS</td>       <th>  Adj. R-squared:    </th> <td>   0.682</td> \n",
       "</tr>\n",
       "<tr>\n",
       "  <th>Method:</th>             <td>Least Squares</td>  <th>  F-statistic:       </th> <td>   63.79</td> \n",
       "</tr>\n",
       "<tr>\n",
       "  <th>Date:</th>             <td>Thu, 03 Oct 2019</td> <th>  Prob (F-statistic):</th> <td>1.00e-85</td> \n",
       "</tr>\n",
       "<tr>\n",
       "  <th>Time:</th>                 <td>12:34:12</td>     <th>  Log-Likelihood:    </th> <td> -5797.3</td> \n",
       "</tr>\n",
       "<tr>\n",
       "  <th>No. Observations:</th>      <td>   381</td>      <th>  AIC:               </th> <td>1.162e+04</td>\n",
       "</tr>\n",
       "<tr>\n",
       "  <th>Df Residuals:</th>          <td>   367</td>      <th>  BIC:               </th> <td>1.168e+04</td>\n",
       "</tr>\n",
       "<tr>\n",
       "  <th>Df Model:</th>              <td>    13</td>      <th>                     </th>     <td> </td>    \n",
       "</tr>\n",
       "<tr>\n",
       "  <th>Covariance Type:</th>      <td>nonrobust</td>    <th>                     </th>     <td> </td>    \n",
       "</tr>\n",
       "</table>\n",
       "<table class=\"simpletable\">\n",
       "<tr>\n",
       "                 <td></td>                    <th>coef</th>     <th>std err</th>      <th>t</th>      <th>P>|t|</th>  <th>[0.025</th>    <th>0.975]</th>  \n",
       "</tr>\n",
       "<tr>\n",
       "  <th>const</th>                           <td> 9.578e+04</td> <td> 2.97e+05</td> <td>    0.322</td> <td> 0.748</td> <td>-4.89e+05</td> <td> 6.81e+05</td>\n",
       "</tr>\n",
       "<tr>\n",
       "  <th>area</th>                            <td>  253.2873</td> <td>   27.086</td> <td>    9.351</td> <td> 0.000</td> <td>  200.024</td> <td>  306.551</td>\n",
       "</tr>\n",
       "<tr>\n",
       "  <th>bedrooms</th>                        <td> 8.089e+04</td> <td> 8.11e+04</td> <td>    0.998</td> <td> 0.319</td> <td>-7.85e+04</td> <td>  2.4e+05</td>\n",
       "</tr>\n",
       "<tr>\n",
       "  <th>bathrooms</th>                       <td> 1.115e+06</td> <td> 1.23e+05</td> <td>    9.031</td> <td> 0.000</td> <td> 8.72e+05</td> <td> 1.36e+06</td>\n",
       "</tr>\n",
       "<tr>\n",
       "  <th>stories</th>                         <td> 4.173e+05</td> <td> 7.45e+04</td> <td>    5.599</td> <td> 0.000</td> <td> 2.71e+05</td> <td> 5.64e+05</td>\n",
       "</tr>\n",
       "<tr>\n",
       "  <th>parking</th>                         <td> 3.031e+05</td> <td> 6.67e+04</td> <td>    4.547</td> <td> 0.000</td> <td> 1.72e+05</td> <td> 4.34e+05</td>\n",
       "</tr>\n",
       "<tr>\n",
       "  <th>mainroad_yes</th>                    <td> 4.081e+05</td> <td> 1.62e+05</td> <td>    2.517</td> <td> 0.012</td> <td> 8.93e+04</td> <td> 7.27e+05</td>\n",
       "</tr>\n",
       "<tr>\n",
       "  <th>guestroom_yes</th>                   <td> 2.757e+05</td> <td> 1.48e+05</td> <td>    1.858</td> <td> 0.064</td> <td>-1.61e+04</td> <td> 5.68e+05</td>\n",
       "</tr>\n",
       "<tr>\n",
       "  <th>basement_yes</th>                    <td> 4.826e+05</td> <td> 1.27e+05</td> <td>    3.794</td> <td> 0.000</td> <td> 2.32e+05</td> <td> 7.33e+05</td>\n",
       "</tr>\n",
       "<tr>\n",
       "  <th>hotwaterheating_yes</th>             <td> 6.164e+05</td> <td> 2.35e+05</td> <td>    2.619</td> <td> 0.009</td> <td> 1.54e+05</td> <td> 1.08e+06</td>\n",
       "</tr>\n",
       "<tr>\n",
       "  <th>airconditioning_yes</th>             <td> 6.858e+05</td> <td> 1.25e+05</td> <td>    5.502</td> <td> 0.000</td> <td> 4.41e+05</td> <td> 9.31e+05</td>\n",
       "</tr>\n",
       "<tr>\n",
       "  <th>prefarea_yes</th>                    <td> 5.092e+05</td> <td>  1.3e+05</td> <td>    3.925</td> <td> 0.000</td> <td> 2.54e+05</td> <td> 7.64e+05</td>\n",
       "</tr>\n",
       "<tr>\n",
       "  <th>furnishingstatus_semi-furnished</th> <td>-1.217e+05</td> <td> 1.29e+05</td> <td>   -0.941</td> <td> 0.347</td> <td>-3.76e+05</td> <td> 1.33e+05</td>\n",
       "</tr>\n",
       "<tr>\n",
       "  <th>furnishingstatus_unfurnished</th>    <td>-3.912e+05</td> <td> 1.43e+05</td> <td>   -2.741</td> <td> 0.006</td> <td>-6.72e+05</td> <td>-1.11e+05</td>\n",
       "</tr>\n",
       "</table>\n",
       "<table class=\"simpletable\">\n",
       "<tr>\n",
       "  <th>Omnibus:</th>       <td>61.032</td> <th>  Durbin-Watson:     </th> <td>   1.895</td>\n",
       "</tr>\n",
       "<tr>\n",
       "  <th>Prob(Omnibus):</th> <td> 0.000</td> <th>  Jarque-Bera (JB):  </th> <td> 144.413</td>\n",
       "</tr>\n",
       "<tr>\n",
       "  <th>Skew:</th>          <td> 0.805</td> <th>  Prob(JB):          </th> <td>4.38e-32</td>\n",
       "</tr>\n",
       "<tr>\n",
       "  <th>Kurtosis:</th>      <td> 5.550</td> <th>  Cond. No.          </th> <td>3.51e+04</td>\n",
       "</tr>\n",
       "</table><br/><br/>Warnings:<br/>[1] Standard Errors assume that the covariance matrix of the errors is correctly specified.<br/>[2] The condition number is large, 3.51e+04. This might indicate that there are<br/>strong multicollinearity or other numerical problems."
      ],
      "text/plain": [
       "<class 'statsmodels.iolib.summary.Summary'>\n",
       "\"\"\"\n",
       "                            OLS Regression Results                            \n",
       "==============================================================================\n",
       "Dep. Variable:                  price   R-squared:                       0.693\n",
       "Model:                            OLS   Adj. R-squared:                  0.682\n",
       "Method:                 Least Squares   F-statistic:                     63.79\n",
       "Date:                Thu, 03 Oct 2019   Prob (F-statistic):           1.00e-85\n",
       "Time:                        12:34:12   Log-Likelihood:                -5797.3\n",
       "No. Observations:                 381   AIC:                         1.162e+04\n",
       "Df Residuals:                     367   BIC:                         1.168e+04\n",
       "Df Model:                          13                                         \n",
       "Covariance Type:            nonrobust                                         \n",
       "===================================================================================================\n",
       "                                      coef    std err          t      P>|t|      [0.025      0.975]\n",
       "---------------------------------------------------------------------------------------------------\n",
       "const                            9.578e+04   2.97e+05      0.322      0.748   -4.89e+05    6.81e+05\n",
       "area                              253.2873     27.086      9.351      0.000     200.024     306.551\n",
       "bedrooms                         8.089e+04   8.11e+04      0.998      0.319   -7.85e+04     2.4e+05\n",
       "bathrooms                        1.115e+06   1.23e+05      9.031      0.000    8.72e+05    1.36e+06\n",
       "stories                          4.173e+05   7.45e+04      5.599      0.000    2.71e+05    5.64e+05\n",
       "parking                          3.031e+05   6.67e+04      4.547      0.000    1.72e+05    4.34e+05\n",
       "mainroad_yes                     4.081e+05   1.62e+05      2.517      0.012    8.93e+04    7.27e+05\n",
       "guestroom_yes                    2.757e+05   1.48e+05      1.858      0.064   -1.61e+04    5.68e+05\n",
       "basement_yes                     4.826e+05   1.27e+05      3.794      0.000    2.32e+05    7.33e+05\n",
       "hotwaterheating_yes              6.164e+05   2.35e+05      2.619      0.009    1.54e+05    1.08e+06\n",
       "airconditioning_yes              6.858e+05   1.25e+05      5.502      0.000    4.41e+05    9.31e+05\n",
       "prefarea_yes                     5.092e+05    1.3e+05      3.925      0.000    2.54e+05    7.64e+05\n",
       "furnishingstatus_semi-furnished -1.217e+05   1.29e+05     -0.941      0.347   -3.76e+05    1.33e+05\n",
       "furnishingstatus_unfurnished    -3.912e+05   1.43e+05     -2.741      0.006   -6.72e+05   -1.11e+05\n",
       "==============================================================================\n",
       "Omnibus:                       61.032   Durbin-Watson:                   1.895\n",
       "Prob(Omnibus):                  0.000   Jarque-Bera (JB):              144.413\n",
       "Skew:                           0.805   Prob(JB):                     4.38e-32\n",
       "Kurtosis:                       5.550   Cond. No.                     3.51e+04\n",
       "==============================================================================\n",
       "\n",
       "Warnings:\n",
       "[1] Standard Errors assume that the covariance matrix of the errors is correctly specified.\n",
       "[2] The condition number is large, 3.51e+04. This might indicate that there are\n",
       "strong multicollinearity or other numerical problems.\n",
       "\"\"\""
      ]
     },
     "execution_count": 28,
     "metadata": {},
     "output_type": "execute_result"
    }
   ],
   "source": [
    "x_const_train = sm.add_constant(x_train)\n",
    "x_const_test = sm.add_constant(x_test)\n",
    "model = sm.OLS(y_train,x_const_train).fit()\n",
    "model.summary()"
   ]
  },
  {
   "cell_type": "markdown",
   "metadata": {},
   "source": [
    "**Note**\n",
    "\n",
    "1. Here R-Square of 69.3% shows that 69.3% **VARIATION** in price is explained by independent variables\n",
    "2. Here Ajusted R-Square of 68.2%. The problem of R-square is as we add features, the r-square increases irrespective of quality of the feature. So for every bad feature, adjusted r quares adjusts the r square value.\n",
    "3. F-statistic (63.79) -- It tests the hypothesis of the **worthyness of model as a whole**. -- (should we throw the model or keep it)\n",
    "    1. Formula -- (Mean Sum of Square of Regression)/(Mean Sum of Square of Error)\n",
    "    2. Here the hypothesis is that H0: beta1 = beta2 = beta3 = 0 and Ha: vice versa.\n",
    "4. F-stat-prob - (1*10e-85) (area ouside of 63.79 in F distribution) -- is the probability of getting the F value > 63.79% when H0 is true."
   ]
  },
  {
   "cell_type": "markdown",
   "metadata": {},
   "source": [
    "**P Values**\n",
    "\n",
    "H0 : Beta = 0\n",
    "Ha : Beta != 0\n",
    "    \n",
    "To reject H0, the p value has to be less than 0.05 for 95% CI\n",
    "\n",
    "Remove the features one by one as p value changes every time.\n",
    "\n",
    "1. For Bedroom p val is 0.3 hence H0 holds. And that means Bedroom is not influencing the price.\n",
    "2. For Guestroom_yes p val is 0.06. Hence we remove this as well.\n",
    "3. For furnishingstatus_semi-furnished p val is 0.34. Hence we remove this feature as well."
   ]
  },
  {
   "cell_type": "code",
   "execution_count": 29,
   "metadata": {},
   "outputs": [],
   "source": [
    "from statsmodels.stats.outliers_influence import variance_inflation_factor"
   ]
  },
  {
   "cell_type": "code",
   "execution_count": 34,
   "metadata": {},
   "outputs": [
    {
     "data": {
      "text/plain": [
       "[8.27644693062682,\n",
       " 16.652386532494006,\n",
       " 9.417642946093611,\n",
       " 7.880729565311669,\n",
       " 1.9863996211941708,\n",
       " 6.884806136866402,\n",
       " 1.4732335889660533,\n",
       " 2.0198579967690864,\n",
       " 1.0915678245324942,\n",
       " 1.767753041617226,\n",
       " 1.4942108584721139,\n",
       " 2.3868314364815126,\n",
       " 2.008632372569909]"
      ]
     },
     "execution_count": 34,
     "metadata": {},
     "output_type": "execute_result"
    }
   ],
   "source": [
    "vif = [variance_inflation_factor(x.values,i) for i in range(x.shape[1])]\n",
    "vif"
   ]
  },
  {
   "cell_type": "code",
   "execution_count": 35,
   "metadata": {},
   "outputs": [],
   "source": [
    "vif = pd.DataFrame({'vif':vif,'features':x.columns})"
   ]
  },
  {
   "cell_type": "code",
   "execution_count": 37,
   "metadata": {},
   "outputs": [
    {
     "data": {
      "text/html": [
       "<div>\n",
       "<style scoped>\n",
       "    .dataframe tbody tr th:only-of-type {\n",
       "        vertical-align: middle;\n",
       "    }\n",
       "\n",
       "    .dataframe tbody tr th {\n",
       "        vertical-align: top;\n",
       "    }\n",
       "\n",
       "    .dataframe thead th {\n",
       "        text-align: right;\n",
       "    }\n",
       "</style>\n",
       "<table border=\"1\" class=\"dataframe\">\n",
       "  <thead>\n",
       "    <tr style=\"text-align: right;\">\n",
       "      <th></th>\n",
       "      <th>vif</th>\n",
       "      <th>features</th>\n",
       "    </tr>\n",
       "  </thead>\n",
       "  <tbody>\n",
       "    <tr>\n",
       "      <td>0</td>\n",
       "      <td>8.276447</td>\n",
       "      <td>area</td>\n",
       "    </tr>\n",
       "    <tr>\n",
       "      <td>1</td>\n",
       "      <td>16.652387</td>\n",
       "      <td>bedrooms</td>\n",
       "    </tr>\n",
       "    <tr>\n",
       "      <td>2</td>\n",
       "      <td>9.417643</td>\n",
       "      <td>bathrooms</td>\n",
       "    </tr>\n",
       "    <tr>\n",
       "      <td>3</td>\n",
       "      <td>7.880730</td>\n",
       "      <td>stories</td>\n",
       "    </tr>\n",
       "    <tr>\n",
       "      <td>4</td>\n",
       "      <td>1.986400</td>\n",
       "      <td>parking</td>\n",
       "    </tr>\n",
       "    <tr>\n",
       "      <td>5</td>\n",
       "      <td>6.884806</td>\n",
       "      <td>mainroad_yes</td>\n",
       "    </tr>\n",
       "    <tr>\n",
       "      <td>6</td>\n",
       "      <td>1.473234</td>\n",
       "      <td>guestroom_yes</td>\n",
       "    </tr>\n",
       "    <tr>\n",
       "      <td>7</td>\n",
       "      <td>2.019858</td>\n",
       "      <td>basement_yes</td>\n",
       "    </tr>\n",
       "    <tr>\n",
       "      <td>8</td>\n",
       "      <td>1.091568</td>\n",
       "      <td>hotwaterheating_yes</td>\n",
       "    </tr>\n",
       "    <tr>\n",
       "      <td>9</td>\n",
       "      <td>1.767753</td>\n",
       "      <td>airconditioning_yes</td>\n",
       "    </tr>\n",
       "    <tr>\n",
       "      <td>10</td>\n",
       "      <td>1.494211</td>\n",
       "      <td>prefarea_yes</td>\n",
       "    </tr>\n",
       "    <tr>\n",
       "      <td>11</td>\n",
       "      <td>2.386831</td>\n",
       "      <td>furnishingstatus_semi-furnished</td>\n",
       "    </tr>\n",
       "    <tr>\n",
       "      <td>12</td>\n",
       "      <td>2.008632</td>\n",
       "      <td>furnishingstatus_unfurnished</td>\n",
       "    </tr>\n",
       "  </tbody>\n",
       "</table>\n",
       "</div>"
      ],
      "text/plain": [
       "          vif                         features\n",
       "0    8.276447                             area\n",
       "1   16.652387                         bedrooms\n",
       "2    9.417643                        bathrooms\n",
       "3    7.880730                          stories\n",
       "4    1.986400                          parking\n",
       "5    6.884806                     mainroad_yes\n",
       "6    1.473234                    guestroom_yes\n",
       "7    2.019858                     basement_yes\n",
       "8    1.091568              hotwaterheating_yes\n",
       "9    1.767753              airconditioning_yes\n",
       "10   1.494211                     prefarea_yes\n",
       "11   2.386831  furnishingstatus_semi-furnished\n",
       "12   2.008632     furnishingstatus_unfurnished"
      ]
     },
     "execution_count": 37,
     "metadata": {},
     "output_type": "execute_result"
    }
   ],
   "source": [
    "vif"
   ]
  },
  {
   "cell_type": "markdown",
   "metadata": {},
   "source": [
    "**Note**\n",
    "\n",
    "Here Bedrooms and Bathrooms are correlated and from the OLS model bedroom is not significant ... But predicting a price of house without rooms is illogical and hence we will drop bathrooms."
   ]
  },
  {
   "cell_type": "code",
   "execution_count": 39,
   "metadata": {},
   "outputs": [
    {
     "data": {
      "text/html": [
       "<table class=\"simpletable\">\n",
       "<caption>OLS Regression Results</caption>\n",
       "<tr>\n",
       "  <th>Dep. Variable:</th>          <td>price</td>      <th>  R-squared:         </th> <td>   0.954</td> \n",
       "</tr>\n",
       "<tr>\n",
       "  <th>Model:</th>                   <td>OLS</td>       <th>  Adj. R-squared:    </th> <td>   0.953</td> \n",
       "</tr>\n",
       "<tr>\n",
       "  <th>Method:</th>             <td>Least Squares</td>  <th>  F-statistic:       </th> <td>   638.2</td> \n",
       "</tr>\n",
       "<tr>\n",
       "  <th>Date:</th>             <td>Thu, 03 Oct 2019</td> <th>  Prob (F-statistic):</th> <td>2.53e-238</td>\n",
       "</tr>\n",
       "<tr>\n",
       "  <th>Time:</th>                 <td>14:29:01</td>     <th>  Log-Likelihood:    </th> <td> -5837.0</td> \n",
       "</tr>\n",
       "<tr>\n",
       "  <th>No. Observations:</th>      <td>   381</td>      <th>  AIC:               </th> <td>1.170e+04</td>\n",
       "</tr>\n",
       "<tr>\n",
       "  <th>Df Residuals:</th>          <td>   369</td>      <th>  BIC:               </th> <td>1.175e+04</td>\n",
       "</tr>\n",
       "<tr>\n",
       "  <th>Df Model:</th>              <td>    12</td>      <th>                     </th>     <td> </td>    \n",
       "</tr>\n",
       "<tr>\n",
       "  <th>Covariance Type:</th>      <td>nonrobust</td>    <th>                     </th>     <td> </td>    \n",
       "</tr>\n",
       "</table>\n",
       "<table class=\"simpletable\">\n",
       "<tr>\n",
       "                 <td></td>                    <th>coef</th>     <th>std err</th>      <th>t</th>      <th>P>|t|</th>  <th>[0.025</th>    <th>0.975]</th>  \n",
       "</tr>\n",
       "<tr>\n",
       "  <th>area</th>                            <td>  297.7019</td> <td>   28.758</td> <td>   10.352</td> <td> 0.000</td> <td>  241.152</td> <td>  354.252</td>\n",
       "</tr>\n",
       "<tr>\n",
       "  <th>bedrooms</th>                        <td> 3.526e+05</td> <td> 7.09e+04</td> <td>    4.975</td> <td> 0.000</td> <td> 2.13e+05</td> <td> 4.92e+05</td>\n",
       "</tr>\n",
       "<tr>\n",
       "  <th>stories</th>                         <td> 5.734e+05</td> <td> 7.99e+04</td> <td>    7.176</td> <td> 0.000</td> <td> 4.16e+05</td> <td> 7.31e+05</td>\n",
       "</tr>\n",
       "<tr>\n",
       "  <th>parking</th>                         <td> 3.312e+05</td> <td> 7.36e+04</td> <td>    4.499</td> <td> 0.000</td> <td> 1.86e+05</td> <td> 4.76e+05</td>\n",
       "</tr>\n",
       "<tr>\n",
       "  <th>mainroad_yes</th>                    <td> 4.668e+05</td> <td> 1.62e+05</td> <td>    2.885</td> <td> 0.004</td> <td> 1.49e+05</td> <td> 7.85e+05</td>\n",
       "</tr>\n",
       "<tr>\n",
       "  <th>guestroom_yes</th>                   <td> 2.428e+05</td> <td> 1.64e+05</td> <td>    1.480</td> <td> 0.140</td> <td>-7.98e+04</td> <td> 5.65e+05</td>\n",
       "</tr>\n",
       "<tr>\n",
       "  <th>basement_yes</th>                    <td> 6.425e+05</td> <td> 1.38e+05</td> <td>    4.646</td> <td> 0.000</td> <td> 3.71e+05</td> <td> 9.15e+05</td>\n",
       "</tr>\n",
       "<tr>\n",
       "  <th>hotwaterheating_yes</th>             <td> 6.869e+05</td> <td>  2.6e+05</td> <td>    2.639</td> <td> 0.009</td> <td> 1.75e+05</td> <td>  1.2e+06</td>\n",
       "</tr>\n",
       "<tr>\n",
       "  <th>airconditioning_yes</th>             <td> 7.013e+05</td> <td> 1.37e+05</td> <td>    5.113</td> <td> 0.000</td> <td> 4.32e+05</td> <td> 9.71e+05</td>\n",
       "</tr>\n",
       "<tr>\n",
       "  <th>prefarea_yes</th>                    <td> 4.181e+05</td> <td> 1.43e+05</td> <td>    2.926</td> <td> 0.004</td> <td> 1.37e+05</td> <td> 6.99e+05</td>\n",
       "</tr>\n",
       "<tr>\n",
       "  <th>furnishingstatus_semi-furnished</th> <td>-2.295e+04</td> <td> 1.34e+05</td> <td>   -0.172</td> <td> 0.864</td> <td>-2.86e+05</td> <td>  2.4e+05</td>\n",
       "</tr>\n",
       "<tr>\n",
       "  <th>furnishingstatus_unfurnished</th>    <td>-3.047e+05</td> <td> 1.42e+05</td> <td>   -2.148</td> <td> 0.032</td> <td>-5.84e+05</td> <td>-2.57e+04</td>\n",
       "</tr>\n",
       "</table>\n",
       "<table class=\"simpletable\">\n",
       "<tr>\n",
       "  <th>Omnibus:</th>       <td>50.601</td> <th>  Durbin-Watson:     </th> <td>   1.875</td>\n",
       "</tr>\n",
       "<tr>\n",
       "  <th>Prob(Omnibus):</th> <td> 0.000</td> <th>  Jarque-Bera (JB):  </th> <td>  96.452</td>\n",
       "</tr>\n",
       "<tr>\n",
       "  <th>Skew:</th>          <td> 0.749</td> <th>  Prob(JB):          </th> <td>1.14e-21</td>\n",
       "</tr>\n",
       "<tr>\n",
       "  <th>Kurtosis:</th>      <td> 4.957</td> <th>  Cond. No.          </th> <td>2.58e+04</td>\n",
       "</tr>\n",
       "</table><br/><br/>Warnings:<br/>[1] Standard Errors assume that the covariance matrix of the errors is correctly specified.<br/>[2] The condition number is large, 2.58e+04. This might indicate that there are<br/>strong multicollinearity or other numerical problems."
      ],
      "text/plain": [
       "<class 'statsmodels.iolib.summary.Summary'>\n",
       "\"\"\"\n",
       "                            OLS Regression Results                            \n",
       "==============================================================================\n",
       "Dep. Variable:                  price   R-squared:                       0.954\n",
       "Model:                            OLS   Adj. R-squared:                  0.953\n",
       "Method:                 Least Squares   F-statistic:                     638.2\n",
       "Date:                Thu, 03 Oct 2019   Prob (F-statistic):          2.53e-238\n",
       "Time:                        14:29:01   Log-Likelihood:                -5837.0\n",
       "No. Observations:                 381   AIC:                         1.170e+04\n",
       "Df Residuals:                     369   BIC:                         1.175e+04\n",
       "Df Model:                          12                                         \n",
       "Covariance Type:            nonrobust                                         \n",
       "===================================================================================================\n",
       "                                      coef    std err          t      P>|t|      [0.025      0.975]\n",
       "---------------------------------------------------------------------------------------------------\n",
       "area                              297.7019     28.758     10.352      0.000     241.152     354.252\n",
       "bedrooms                         3.526e+05   7.09e+04      4.975      0.000    2.13e+05    4.92e+05\n",
       "stories                          5.734e+05   7.99e+04      7.176      0.000    4.16e+05    7.31e+05\n",
       "parking                          3.312e+05   7.36e+04      4.499      0.000    1.86e+05    4.76e+05\n",
       "mainroad_yes                     4.668e+05   1.62e+05      2.885      0.004    1.49e+05    7.85e+05\n",
       "guestroom_yes                    2.428e+05   1.64e+05      1.480      0.140   -7.98e+04    5.65e+05\n",
       "basement_yes                     6.425e+05   1.38e+05      4.646      0.000    3.71e+05    9.15e+05\n",
       "hotwaterheating_yes              6.869e+05    2.6e+05      2.639      0.009    1.75e+05     1.2e+06\n",
       "airconditioning_yes              7.013e+05   1.37e+05      5.113      0.000    4.32e+05    9.71e+05\n",
       "prefarea_yes                     4.181e+05   1.43e+05      2.926      0.004    1.37e+05    6.99e+05\n",
       "furnishingstatus_semi-furnished -2.295e+04   1.34e+05     -0.172      0.864   -2.86e+05     2.4e+05\n",
       "furnishingstatus_unfurnished    -3.047e+05   1.42e+05     -2.148      0.032   -5.84e+05   -2.57e+04\n",
       "==============================================================================\n",
       "Omnibus:                       50.601   Durbin-Watson:                   1.875\n",
       "Prob(Omnibus):                  0.000   Jarque-Bera (JB):               96.452\n",
       "Skew:                           0.749   Prob(JB):                     1.14e-21\n",
       "Kurtosis:                       4.957   Cond. No.                     2.58e+04\n",
       "==============================================================================\n",
       "\n",
       "Warnings:\n",
       "[1] Standard Errors assume that the covariance matrix of the errors is correctly specified.\n",
       "[2] The condition number is large, 2.58e+04. This might indicate that there are\n",
       "strong multicollinearity or other numerical problems.\n",
       "\"\"\""
      ]
     },
     "execution_count": 39,
     "metadata": {},
     "output_type": "execute_result"
    }
   ],
   "source": [
    "x_train1 = x_train.drop('bathrooms',axis=1)\n",
    "x_test1 = x_test.drop('bathrooms',axis=1)\n",
    "#x_const_train = sm.add_constant(x_train)\n",
    "#x_const_test = sm.add_constant(x_test)\n",
    "model = sm.OLS(y_train,x_train1).fit()\n",
    "model.summary()"
   ]
  },
  {
   "cell_type": "code",
   "execution_count": 40,
   "metadata": {},
   "outputs": [
    {
     "data": {
      "text/plain": [
       "[7.977868478363449,\n",
       " 14.541281250776196,\n",
       " 7.778111867721856,\n",
       " 1.9322193456127768,\n",
       " 7.030340683924869,\n",
       " 1.5594525602114955,\n",
       " 2.138417096337224,\n",
       " 1.1057795356482654,\n",
       " 1.8574347489263607,\n",
       " 1.4998209391356436,\n",
       " 2.3747952648525024,\n",
       " 1.9378849251840056]"
      ]
     },
     "execution_count": 40,
     "metadata": {},
     "output_type": "execute_result"
    }
   ],
   "source": [
    "vif = [variance_inflation_factor(x_train1.values,i) for i in range(x_train1.shape[1])]\n",
    "vif"
   ]
  },
  {
   "cell_type": "code",
   "execution_count": 41,
   "metadata": {},
   "outputs": [
    {
     "data": {
      "text/html": [
       "<div>\n",
       "<style scoped>\n",
       "    .dataframe tbody tr th:only-of-type {\n",
       "        vertical-align: middle;\n",
       "    }\n",
       "\n",
       "    .dataframe tbody tr th {\n",
       "        vertical-align: top;\n",
       "    }\n",
       "\n",
       "    .dataframe thead th {\n",
       "        text-align: right;\n",
       "    }\n",
       "</style>\n",
       "<table border=\"1\" class=\"dataframe\">\n",
       "  <thead>\n",
       "    <tr style=\"text-align: right;\">\n",
       "      <th></th>\n",
       "      <th>vif</th>\n",
       "      <th>features</th>\n",
       "    </tr>\n",
       "  </thead>\n",
       "  <tbody>\n",
       "    <tr>\n",
       "      <td>0</td>\n",
       "      <td>7.977868</td>\n",
       "      <td>area</td>\n",
       "    </tr>\n",
       "    <tr>\n",
       "      <td>1</td>\n",
       "      <td>14.541281</td>\n",
       "      <td>bedrooms</td>\n",
       "    </tr>\n",
       "    <tr>\n",
       "      <td>2</td>\n",
       "      <td>7.778112</td>\n",
       "      <td>stories</td>\n",
       "    </tr>\n",
       "    <tr>\n",
       "      <td>3</td>\n",
       "      <td>1.932219</td>\n",
       "      <td>parking</td>\n",
       "    </tr>\n",
       "    <tr>\n",
       "      <td>4</td>\n",
       "      <td>7.030341</td>\n",
       "      <td>mainroad_yes</td>\n",
       "    </tr>\n",
       "    <tr>\n",
       "      <td>5</td>\n",
       "      <td>1.559453</td>\n",
       "      <td>guestroom_yes</td>\n",
       "    </tr>\n",
       "    <tr>\n",
       "      <td>6</td>\n",
       "      <td>2.138417</td>\n",
       "      <td>basement_yes</td>\n",
       "    </tr>\n",
       "    <tr>\n",
       "      <td>7</td>\n",
       "      <td>1.105780</td>\n",
       "      <td>hotwaterheating_yes</td>\n",
       "    </tr>\n",
       "    <tr>\n",
       "      <td>8</td>\n",
       "      <td>1.857435</td>\n",
       "      <td>airconditioning_yes</td>\n",
       "    </tr>\n",
       "    <tr>\n",
       "      <td>9</td>\n",
       "      <td>1.499821</td>\n",
       "      <td>prefarea_yes</td>\n",
       "    </tr>\n",
       "    <tr>\n",
       "      <td>10</td>\n",
       "      <td>2.374795</td>\n",
       "      <td>furnishingstatus_semi-furnished</td>\n",
       "    </tr>\n",
       "    <tr>\n",
       "      <td>11</td>\n",
       "      <td>1.937885</td>\n",
       "      <td>furnishingstatus_unfurnished</td>\n",
       "    </tr>\n",
       "  </tbody>\n",
       "</table>\n",
       "</div>"
      ],
      "text/plain": [
       "          vif                         features\n",
       "0    7.977868                             area\n",
       "1   14.541281                         bedrooms\n",
       "2    7.778112                          stories\n",
       "3    1.932219                          parking\n",
       "4    7.030341                     mainroad_yes\n",
       "5    1.559453                    guestroom_yes\n",
       "6    2.138417                     basement_yes\n",
       "7    1.105780              hotwaterheating_yes\n",
       "8    1.857435              airconditioning_yes\n",
       "9    1.499821                     prefarea_yes\n",
       "10   2.374795  furnishingstatus_semi-furnished\n",
       "11   1.937885     furnishingstatus_unfurnished"
      ]
     },
     "execution_count": 41,
     "metadata": {},
     "output_type": "execute_result"
    }
   ],
   "source": [
    "vif = pd.DataFrame({'vif':vif,'features':x_train1.columns})\n",
    "vif"
   ]
  },
  {
   "cell_type": "markdown",
   "metadata": {},
   "source": [
    "## Now dropping out furnishingstatus_semi-furnished and guestroom_yes based on p values"
   ]
  },
  {
   "cell_type": "code",
   "execution_count": 42,
   "metadata": {},
   "outputs": [
    {
     "data": {
      "text/html": [
       "<table class=\"simpletable\">\n",
       "<caption>OLS Regression Results</caption>\n",
       "<tr>\n",
       "  <th>Dep. Variable:</th>          <td>price</td>      <th>  R-squared:         </th> <td>   0.954</td> \n",
       "</tr>\n",
       "<tr>\n",
       "  <th>Model:</th>                   <td>OLS</td>       <th>  Adj. R-squared:    </th> <td>   0.953</td> \n",
       "</tr>\n",
       "<tr>\n",
       "  <th>Method:</th>             <td>Least Squares</td>  <th>  F-statistic:       </th> <td>   765.2</td> \n",
       "</tr>\n",
       "<tr>\n",
       "  <th>Date:</th>             <td>Thu, 03 Oct 2019</td> <th>  Prob (F-statistic):</th> <td>1.00e-240</td>\n",
       "</tr>\n",
       "<tr>\n",
       "  <th>Time:</th>                 <td>14:34:50</td>     <th>  Log-Likelihood:    </th> <td> -5838.1</td> \n",
       "</tr>\n",
       "<tr>\n",
       "  <th>No. Observations:</th>      <td>   381</td>      <th>  AIC:               </th> <td>1.170e+04</td>\n",
       "</tr>\n",
       "<tr>\n",
       "  <th>Df Residuals:</th>          <td>   371</td>      <th>  BIC:               </th> <td>1.174e+04</td>\n",
       "</tr>\n",
       "<tr>\n",
       "  <th>Df Model:</th>              <td>    10</td>      <th>                     </th>     <td> </td>    \n",
       "</tr>\n",
       "<tr>\n",
       "  <th>Covariance Type:</th>      <td>nonrobust</td>    <th>                     </th>     <td> </td>    \n",
       "</tr>\n",
       "</table>\n",
       "<table class=\"simpletable\">\n",
       "<tr>\n",
       "                <td></td>                  <th>coef</th>     <th>std err</th>      <th>t</th>      <th>P>|t|</th>  <th>[0.025</th>    <th>0.975]</th>  \n",
       "</tr>\n",
       "<tr>\n",
       "  <th>area</th>                         <td>  302.6242</td> <td>   28.487</td> <td>   10.623</td> <td> 0.000</td> <td>  246.607</td> <td>  358.641</td>\n",
       "</tr>\n",
       "<tr>\n",
       "  <th>bedrooms</th>                     <td> 3.392e+05</td> <td> 6.74e+04</td> <td>    5.031</td> <td> 0.000</td> <td> 2.07e+05</td> <td> 4.72e+05</td>\n",
       "</tr>\n",
       "<tr>\n",
       "  <th>stories</th>                      <td>  5.88e+05</td> <td> 7.93e+04</td> <td>    7.412</td> <td> 0.000</td> <td> 4.32e+05</td> <td> 7.44e+05</td>\n",
       "</tr>\n",
       "<tr>\n",
       "  <th>parking</th>                      <td> 3.255e+05</td> <td> 7.34e+04</td> <td>    4.432</td> <td> 0.000</td> <td> 1.81e+05</td> <td>  4.7e+05</td>\n",
       "</tr>\n",
       "<tr>\n",
       "  <th>mainroad_yes</th>                 <td> 4.598e+05</td> <td> 1.61e+05</td> <td>    2.862</td> <td> 0.004</td> <td> 1.44e+05</td> <td> 7.76e+05</td>\n",
       "</tr>\n",
       "<tr>\n",
       "  <th>basement_yes</th>                 <td> 7.193e+05</td> <td> 1.28e+05</td> <td>    5.618</td> <td> 0.000</td> <td> 4.68e+05</td> <td> 9.71e+05</td>\n",
       "</tr>\n",
       "<tr>\n",
       "  <th>hotwaterheating_yes</th>          <td> 6.729e+05</td> <td>  2.6e+05</td> <td>    2.586</td> <td> 0.010</td> <td> 1.61e+05</td> <td> 1.18e+06</td>\n",
       "</tr>\n",
       "<tr>\n",
       "  <th>airconditioning_yes</th>          <td> 7.142e+05</td> <td> 1.36e+05</td> <td>    5.259</td> <td> 0.000</td> <td> 4.47e+05</td> <td> 9.81e+05</td>\n",
       "</tr>\n",
       "<tr>\n",
       "  <th>prefarea_yes</th>                 <td> 4.354e+05</td> <td> 1.42e+05</td> <td>    3.057</td> <td> 0.002</td> <td> 1.55e+05</td> <td> 7.15e+05</td>\n",
       "</tr>\n",
       "<tr>\n",
       "  <th>furnishingstatus_unfurnished</th> <td>-3.049e+05</td> <td> 1.21e+05</td> <td>   -2.519</td> <td> 0.012</td> <td>-5.43e+05</td> <td>-6.69e+04</td>\n",
       "</tr>\n",
       "</table>\n",
       "<table class=\"simpletable\">\n",
       "<tr>\n",
       "  <th>Omnibus:</th>       <td>49.224</td> <th>  Durbin-Watson:     </th> <td>   1.863</td>\n",
       "</tr>\n",
       "<tr>\n",
       "  <th>Prob(Omnibus):</th> <td> 0.000</td> <th>  Jarque-Bera (JB):  </th> <td>  91.907</td>\n",
       "</tr>\n",
       "<tr>\n",
       "  <th>Skew:</th>          <td> 0.739</td> <th>  Prob(JB):          </th> <td>1.10e-20</td>\n",
       "</tr>\n",
       "<tr>\n",
       "  <th>Kurtosis:</th>      <td> 4.899</td> <th>  Cond. No.          </th> <td>2.57e+04</td>\n",
       "</tr>\n",
       "</table><br/><br/>Warnings:<br/>[1] Standard Errors assume that the covariance matrix of the errors is correctly specified.<br/>[2] The condition number is large, 2.57e+04. This might indicate that there are<br/>strong multicollinearity or other numerical problems."
      ],
      "text/plain": [
       "<class 'statsmodels.iolib.summary.Summary'>\n",
       "\"\"\"\n",
       "                            OLS Regression Results                            \n",
       "==============================================================================\n",
       "Dep. Variable:                  price   R-squared:                       0.954\n",
       "Model:                            OLS   Adj. R-squared:                  0.953\n",
       "Method:                 Least Squares   F-statistic:                     765.2\n",
       "Date:                Thu, 03 Oct 2019   Prob (F-statistic):          1.00e-240\n",
       "Time:                        14:34:50   Log-Likelihood:                -5838.1\n",
       "No. Observations:                 381   AIC:                         1.170e+04\n",
       "Df Residuals:                     371   BIC:                         1.174e+04\n",
       "Df Model:                          10                                         \n",
       "Covariance Type:            nonrobust                                         \n",
       "================================================================================================\n",
       "                                   coef    std err          t      P>|t|      [0.025      0.975]\n",
       "------------------------------------------------------------------------------------------------\n",
       "area                           302.6242     28.487     10.623      0.000     246.607     358.641\n",
       "bedrooms                      3.392e+05   6.74e+04      5.031      0.000    2.07e+05    4.72e+05\n",
       "stories                        5.88e+05   7.93e+04      7.412      0.000    4.32e+05    7.44e+05\n",
       "parking                       3.255e+05   7.34e+04      4.432      0.000    1.81e+05     4.7e+05\n",
       "mainroad_yes                  4.598e+05   1.61e+05      2.862      0.004    1.44e+05    7.76e+05\n",
       "basement_yes                  7.193e+05   1.28e+05      5.618      0.000    4.68e+05    9.71e+05\n",
       "hotwaterheating_yes           6.729e+05    2.6e+05      2.586      0.010    1.61e+05    1.18e+06\n",
       "airconditioning_yes           7.142e+05   1.36e+05      5.259      0.000    4.47e+05    9.81e+05\n",
       "prefarea_yes                  4.354e+05   1.42e+05      3.057      0.002    1.55e+05    7.15e+05\n",
       "furnishingstatus_unfurnished -3.049e+05   1.21e+05     -2.519      0.012   -5.43e+05   -6.69e+04\n",
       "==============================================================================\n",
       "Omnibus:                       49.224   Durbin-Watson:                   1.863\n",
       "Prob(Omnibus):                  0.000   Jarque-Bera (JB):               91.907\n",
       "Skew:                           0.739   Prob(JB):                     1.10e-20\n",
       "Kurtosis:                       4.899   Cond. No.                     2.57e+04\n",
       "==============================================================================\n",
       "\n",
       "Warnings:\n",
       "[1] Standard Errors assume that the covariance matrix of the errors is correctly specified.\n",
       "[2] The condition number is large, 2.57e+04. This might indicate that there are\n",
       "strong multicollinearity or other numerical problems.\n",
       "\"\"\""
      ]
     },
     "execution_count": 42,
     "metadata": {},
     "output_type": "execute_result"
    }
   ],
   "source": [
    "x_train1 = x_train.drop(['bathrooms','furnishingstatus_semi-furnished','guestroom_yes'],axis=1)\n",
    "x_test1 = x_test.drop(['bathrooms','furnishingstatus_semi-furnished','guestroom_yes'],axis=1)\n",
    "#x_const_train = sm.add_constant(x_train)\n",
    "#x_const_test = sm.add_constant(x_test)\n",
    "model = sm.OLS(y_train,x_train1).fit()\n",
    "model.summary()"
   ]
  },
  {
   "cell_type": "code",
   "execution_count": 43,
   "metadata": {},
   "outputs": [
    {
     "data": {
      "text/html": [
       "<div>\n",
       "<style scoped>\n",
       "    .dataframe tbody tr th:only-of-type {\n",
       "        vertical-align: middle;\n",
       "    }\n",
       "\n",
       "    .dataframe tbody tr th {\n",
       "        vertical-align: top;\n",
       "    }\n",
       "\n",
       "    .dataframe thead th {\n",
       "        text-align: right;\n",
       "    }\n",
       "</style>\n",
       "<table border=\"1\" class=\"dataframe\">\n",
       "  <thead>\n",
       "    <tr style=\"text-align: right;\">\n",
       "      <th></th>\n",
       "      <th>vif</th>\n",
       "      <th>features</th>\n",
       "    </tr>\n",
       "  </thead>\n",
       "  <tbody>\n",
       "    <tr>\n",
       "      <td>0</td>\n",
       "      <td>7.823598</td>\n",
       "      <td>area</td>\n",
       "    </tr>\n",
       "    <tr>\n",
       "      <td>1</td>\n",
       "      <td>13.155140</td>\n",
       "      <td>bedrooms</td>\n",
       "    </tr>\n",
       "    <tr>\n",
       "      <td>2</td>\n",
       "      <td>7.660882</td>\n",
       "      <td>stories</td>\n",
       "    </tr>\n",
       "    <tr>\n",
       "      <td>3</td>\n",
       "      <td>1.922006</td>\n",
       "      <td>parking</td>\n",
       "    </tr>\n",
       "    <tr>\n",
       "      <td>4</td>\n",
       "      <td>6.927763</td>\n",
       "      <td>mainroad_yes</td>\n",
       "    </tr>\n",
       "    <tr>\n",
       "      <td>5</td>\n",
       "      <td>1.831682</td>\n",
       "      <td>basement_yes</td>\n",
       "    </tr>\n",
       "    <tr>\n",
       "      <td>6</td>\n",
       "      <td>1.104313</td>\n",
       "      <td>hotwaterheating_yes</td>\n",
       "    </tr>\n",
       "    <tr>\n",
       "      <td>7</td>\n",
       "      <td>1.819799</td>\n",
       "      <td>airconditioning_yes</td>\n",
       "    </tr>\n",
       "    <tr>\n",
       "      <td>8</td>\n",
       "      <td>1.488747</td>\n",
       "      <td>prefarea_yes</td>\n",
       "    </tr>\n",
       "    <tr>\n",
       "      <td>9</td>\n",
       "      <td>1.410550</td>\n",
       "      <td>furnishingstatus_unfurnished</td>\n",
       "    </tr>\n",
       "  </tbody>\n",
       "</table>\n",
       "</div>"
      ],
      "text/plain": [
       "         vif                      features\n",
       "0   7.823598                          area\n",
       "1  13.155140                      bedrooms\n",
       "2   7.660882                       stories\n",
       "3   1.922006                       parking\n",
       "4   6.927763                  mainroad_yes\n",
       "5   1.831682                  basement_yes\n",
       "6   1.104313           hotwaterheating_yes\n",
       "7   1.819799           airconditioning_yes\n",
       "8   1.488747                  prefarea_yes\n",
       "9   1.410550  furnishingstatus_unfurnished"
      ]
     },
     "execution_count": 43,
     "metadata": {},
     "output_type": "execute_result"
    }
   ],
   "source": [
    "vif = [variance_inflation_factor(x_train1.values,i) for i in range(x_train1.shape[1])]\n",
    "vif = pd.DataFrame({'vif':vif,'features':x_train1.columns})\n",
    "vif"
   ]
  },
  {
   "cell_type": "code",
   "execution_count": 44,
   "metadata": {},
   "outputs": [
    {
     "data": {
      "text/html": [
       "<div>\n",
       "<style scoped>\n",
       "    .dataframe tbody tr th:only-of-type {\n",
       "        vertical-align: middle;\n",
       "    }\n",
       "\n",
       "    .dataframe tbody tr th {\n",
       "        vertical-align: top;\n",
       "    }\n",
       "\n",
       "    .dataframe thead th {\n",
       "        text-align: right;\n",
       "    }\n",
       "</style>\n",
       "<table border=\"1\" class=\"dataframe\">\n",
       "  <thead>\n",
       "    <tr style=\"text-align: right;\">\n",
       "      <th></th>\n",
       "      <th>area</th>\n",
       "      <th>bedrooms</th>\n",
       "      <th>stories</th>\n",
       "      <th>parking</th>\n",
       "      <th>mainroad_yes</th>\n",
       "      <th>basement_yes</th>\n",
       "      <th>hotwaterheating_yes</th>\n",
       "      <th>airconditioning_yes</th>\n",
       "      <th>prefarea_yes</th>\n",
       "      <th>furnishingstatus_unfurnished</th>\n",
       "    </tr>\n",
       "  </thead>\n",
       "  <tbody>\n",
       "    <tr>\n",
       "      <td>area</td>\n",
       "      <td>1.000000</td>\n",
       "      <td>0.150933</td>\n",
       "      <td>0.069115</td>\n",
       "      <td>0.322459</td>\n",
       "      <td>0.296792</td>\n",
       "      <td>0.039259</td>\n",
       "      <td>0.001753</td>\n",
       "      <td>0.230055</td>\n",
       "      <td>0.210699</td>\n",
       "      <td>-0.124330</td>\n",
       "    </tr>\n",
       "    <tr>\n",
       "      <td>bedrooms</td>\n",
       "      <td>0.150933</td>\n",
       "      <td>1.000000</td>\n",
       "      <td>0.415340</td>\n",
       "      <td>0.136585</td>\n",
       "      <td>-0.032378</td>\n",
       "      <td>0.085510</td>\n",
       "      <td>0.028803</td>\n",
       "      <td>0.225595</td>\n",
       "      <td>0.055724</td>\n",
       "      <td>-0.121150</td>\n",
       "    </tr>\n",
       "    <tr>\n",
       "      <td>stories</td>\n",
       "      <td>0.069115</td>\n",
       "      <td>0.415340</td>\n",
       "      <td>1.000000</td>\n",
       "      <td>0.038438</td>\n",
       "      <td>0.085811</td>\n",
       "      <td>-0.204091</td>\n",
       "      <td>0.032190</td>\n",
       "      <td>0.329484</td>\n",
       "      <td>-0.009994</td>\n",
       "      <td>-0.107335</td>\n",
       "    </tr>\n",
       "    <tr>\n",
       "      <td>parking</td>\n",
       "      <td>0.322459</td>\n",
       "      <td>0.136585</td>\n",
       "      <td>0.038438</td>\n",
       "      <td>1.000000</td>\n",
       "      <td>0.171942</td>\n",
       "      <td>0.021634</td>\n",
       "      <td>0.093102</td>\n",
       "      <td>0.175432</td>\n",
       "      <td>0.109114</td>\n",
       "      <td>-0.135628</td>\n",
       "    </tr>\n",
       "    <tr>\n",
       "      <td>mainroad_yes</td>\n",
       "      <td>0.296792</td>\n",
       "      <td>-0.032378</td>\n",
       "      <td>0.085811</td>\n",
       "      <td>0.171942</td>\n",
       "      <td>1.000000</td>\n",
       "      <td>0.042987</td>\n",
       "      <td>-0.009268</td>\n",
       "      <td>0.106985</td>\n",
       "      <td>0.221095</td>\n",
       "      <td>-0.130545</td>\n",
       "    </tr>\n",
       "    <tr>\n",
       "      <td>basement_yes</td>\n",
       "      <td>0.039259</td>\n",
       "      <td>0.085510</td>\n",
       "      <td>-0.204091</td>\n",
       "      <td>0.021634</td>\n",
       "      <td>0.042987</td>\n",
       "      <td>1.000000</td>\n",
       "      <td>-0.029223</td>\n",
       "      <td>0.099756</td>\n",
       "      <td>0.239992</td>\n",
       "      <td>-0.135212</td>\n",
       "    </tr>\n",
       "    <tr>\n",
       "      <td>hotwaterheating_yes</td>\n",
       "      <td>0.001753</td>\n",
       "      <td>0.028803</td>\n",
       "      <td>0.032190</td>\n",
       "      <td>0.093102</td>\n",
       "      <td>-0.009268</td>\n",
       "      <td>-0.029223</td>\n",
       "      <td>1.000000</td>\n",
       "      <td>-0.135291</td>\n",
       "      <td>-0.047778</td>\n",
       "      <td>-0.055849</td>\n",
       "    </tr>\n",
       "    <tr>\n",
       "      <td>airconditioning_yes</td>\n",
       "      <td>0.230055</td>\n",
       "      <td>0.225595</td>\n",
       "      <td>0.329484</td>\n",
       "      <td>0.175432</td>\n",
       "      <td>0.106985</td>\n",
       "      <td>0.099756</td>\n",
       "      <td>-0.135291</td>\n",
       "      <td>1.000000</td>\n",
       "      <td>0.085179</td>\n",
       "      <td>-0.103340</td>\n",
       "    </tr>\n",
       "    <tr>\n",
       "      <td>prefarea_yes</td>\n",
       "      <td>0.210699</td>\n",
       "      <td>0.055724</td>\n",
       "      <td>-0.009994</td>\n",
       "      <td>0.109114</td>\n",
       "      <td>0.221095</td>\n",
       "      <td>0.239992</td>\n",
       "      <td>-0.047778</td>\n",
       "      <td>0.085179</td>\n",
       "      <td>1.000000</td>\n",
       "      <td>-0.091865</td>\n",
       "    </tr>\n",
       "    <tr>\n",
       "      <td>furnishingstatus_unfurnished</td>\n",
       "      <td>-0.124330</td>\n",
       "      <td>-0.121150</td>\n",
       "      <td>-0.107335</td>\n",
       "      <td>-0.135628</td>\n",
       "      <td>-0.130545</td>\n",
       "      <td>-0.135212</td>\n",
       "      <td>-0.055849</td>\n",
       "      <td>-0.103340</td>\n",
       "      <td>-0.091865</td>\n",
       "      <td>1.000000</td>\n",
       "    </tr>\n",
       "  </tbody>\n",
       "</table>\n",
       "</div>"
      ],
      "text/plain": [
       "                                  area  bedrooms   stories   parking  \\\n",
       "area                          1.000000  0.150933  0.069115  0.322459   \n",
       "bedrooms                      0.150933  1.000000  0.415340  0.136585   \n",
       "stories                       0.069115  0.415340  1.000000  0.038438   \n",
       "parking                       0.322459  0.136585  0.038438  1.000000   \n",
       "mainroad_yes                  0.296792 -0.032378  0.085811  0.171942   \n",
       "basement_yes                  0.039259  0.085510 -0.204091  0.021634   \n",
       "hotwaterheating_yes           0.001753  0.028803  0.032190  0.093102   \n",
       "airconditioning_yes           0.230055  0.225595  0.329484  0.175432   \n",
       "prefarea_yes                  0.210699  0.055724 -0.009994  0.109114   \n",
       "furnishingstatus_unfurnished -0.124330 -0.121150 -0.107335 -0.135628   \n",
       "\n",
       "                              mainroad_yes  basement_yes  hotwaterheating_yes  \\\n",
       "area                              0.296792      0.039259             0.001753   \n",
       "bedrooms                         -0.032378      0.085510             0.028803   \n",
       "stories                           0.085811     -0.204091             0.032190   \n",
       "parking                           0.171942      0.021634             0.093102   \n",
       "mainroad_yes                      1.000000      0.042987            -0.009268   \n",
       "basement_yes                      0.042987      1.000000            -0.029223   \n",
       "hotwaterheating_yes              -0.009268     -0.029223             1.000000   \n",
       "airconditioning_yes               0.106985      0.099756            -0.135291   \n",
       "prefarea_yes                      0.221095      0.239992            -0.047778   \n",
       "furnishingstatus_unfurnished     -0.130545     -0.135212            -0.055849   \n",
       "\n",
       "                              airconditioning_yes  prefarea_yes  \\\n",
       "area                                     0.230055      0.210699   \n",
       "bedrooms                                 0.225595      0.055724   \n",
       "stories                                  0.329484     -0.009994   \n",
       "parking                                  0.175432      0.109114   \n",
       "mainroad_yes                             0.106985      0.221095   \n",
       "basement_yes                             0.099756      0.239992   \n",
       "hotwaterheating_yes                     -0.135291     -0.047778   \n",
       "airconditioning_yes                      1.000000      0.085179   \n",
       "prefarea_yes                             0.085179      1.000000   \n",
       "furnishingstatus_unfurnished            -0.103340     -0.091865   \n",
       "\n",
       "                              furnishingstatus_unfurnished  \n",
       "area                                             -0.124330  \n",
       "bedrooms                                         -0.121150  \n",
       "stories                                          -0.107335  \n",
       "parking                                          -0.135628  \n",
       "mainroad_yes                                     -0.130545  \n",
       "basement_yes                                     -0.135212  \n",
       "hotwaterheating_yes                              -0.055849  \n",
       "airconditioning_yes                              -0.103340  \n",
       "prefarea_yes                                     -0.091865  \n",
       "furnishingstatus_unfurnished                      1.000000  "
      ]
     },
     "execution_count": 44,
     "metadata": {},
     "output_type": "execute_result"
    }
   ],
   "source": [
    "x_train1.corr()"
   ]
  },
  {
   "cell_type": "markdown",
   "metadata": {},
   "source": [
    "## Stories and bedroom have high correlation and hence we decide to drop stories"
   ]
  },
  {
   "cell_type": "markdown",
   "metadata": {},
   "source": [
    "## All this is happening beacuse in the OLS summary the cond.No value has to be near 10 ... its too high ..."
   ]
  },
  {
   "cell_type": "code",
   "execution_count": 45,
   "metadata": {},
   "outputs": [
    {
     "data": {
      "text/html": [
       "<table class=\"simpletable\">\n",
       "<caption>OLS Regression Results</caption>\n",
       "<tr>\n",
       "  <th>Dep. Variable:</th>          <td>price</td>      <th>  R-squared:         </th> <td>   0.947</td> \n",
       "</tr>\n",
       "<tr>\n",
       "  <th>Model:</th>                   <td>OLS</td>       <th>  Adj. R-squared:    </th> <td>   0.946</td> \n",
       "</tr>\n",
       "<tr>\n",
       "  <th>Method:</th>             <td>Least Squares</td>  <th>  F-statistic:       </th> <td>   737.2</td> \n",
       "</tr>\n",
       "<tr>\n",
       "  <th>Date:</th>             <td>Thu, 03 Oct 2019</td> <th>  Prob (F-statistic):</th> <td>4.65e-231</td>\n",
       "</tr>\n",
       "<tr>\n",
       "  <th>Time:</th>                 <td>14:39:10</td>     <th>  Log-Likelihood:    </th> <td> -5864.4</td> \n",
       "</tr>\n",
       "<tr>\n",
       "  <th>No. Observations:</th>      <td>   381</td>      <th>  AIC:               </th> <td>1.175e+04</td>\n",
       "</tr>\n",
       "<tr>\n",
       "  <th>Df Residuals:</th>          <td>   372</td>      <th>  BIC:               </th> <td>1.178e+04</td>\n",
       "</tr>\n",
       "<tr>\n",
       "  <th>Df Model:</th>              <td>     9</td>      <th>                     </th>     <td> </td>    \n",
       "</tr>\n",
       "<tr>\n",
       "  <th>Covariance Type:</th>      <td>nonrobust</td>    <th>                     </th>     <td> </td>    \n",
       "</tr>\n",
       "</table>\n",
       "<table class=\"simpletable\">\n",
       "<tr>\n",
       "                <td></td>                  <th>coef</th>     <th>std err</th>      <th>t</th>      <th>P>|t|</th>  <th>[0.025</th>    <th>0.975]</th>  \n",
       "</tr>\n",
       "<tr>\n",
       "  <th>area</th>                         <td>  295.1452</td> <td>   30.464</td> <td>    9.688</td> <td> 0.000</td> <td>  235.242</td> <td>  355.048</td>\n",
       "</tr>\n",
       "<tr>\n",
       "  <th>bedrooms</th>                     <td> 6.531e+05</td> <td> 5.61e+04</td> <td>   11.633</td> <td> 0.000</td> <td> 5.43e+05</td> <td> 7.63e+05</td>\n",
       "</tr>\n",
       "<tr>\n",
       "  <th>parking</th>                      <td> 2.783e+05</td> <td> 7.83e+04</td> <td>    3.555</td> <td> 0.000</td> <td> 1.24e+05</td> <td> 4.32e+05</td>\n",
       "</tr>\n",
       "<tr>\n",
       "  <th>mainroad_yes</th>                 <td>  6.82e+05</td> <td> 1.69e+05</td> <td>    4.037</td> <td> 0.000</td> <td>  3.5e+05</td> <td> 1.01e+06</td>\n",
       "</tr>\n",
       "<tr>\n",
       "  <th>basement_yes</th>                 <td>  4.42e+05</td> <td> 1.31e+05</td> <td>    3.373</td> <td> 0.001</td> <td> 1.84e+05</td> <td>    7e+05</td>\n",
       "</tr>\n",
       "<tr>\n",
       "  <th>hotwaterheating_yes</th>          <td> 8.068e+05</td> <td> 2.78e+05</td> <td>    2.905</td> <td> 0.004</td> <td> 2.61e+05</td> <td> 1.35e+06</td>\n",
       "</tr>\n",
       "<tr>\n",
       "  <th>airconditioning_yes</th>          <td> 1.011e+06</td> <td> 1.39e+05</td> <td>    7.285</td> <td> 0.000</td> <td> 7.38e+05</td> <td> 1.28e+06</td>\n",
       "</tr>\n",
       "<tr>\n",
       "  <th>prefarea_yes</th>                 <td> 4.304e+05</td> <td> 1.52e+05</td> <td>    2.824</td> <td> 0.005</td> <td> 1.31e+05</td> <td>  7.3e+05</td>\n",
       "</tr>\n",
       "<tr>\n",
       "  <th>furnishingstatus_unfurnished</th> <td>-3.459e+05</td> <td> 1.29e+05</td> <td>   -2.673</td> <td> 0.008</td> <td>   -6e+05</td> <td>-9.14e+04</td>\n",
       "</tr>\n",
       "</table>\n",
       "<table class=\"simpletable\">\n",
       "<tr>\n",
       "  <th>Omnibus:</th>       <td>29.181</td> <th>  Durbin-Watson:     </th> <td>   1.852</td>\n",
       "</tr>\n",
       "<tr>\n",
       "  <th>Prob(Omnibus):</th> <td> 0.000</td> <th>  Jarque-Bera (JB):  </th> <td>  39.938</td>\n",
       "</tr>\n",
       "<tr>\n",
       "  <th>Skew:</th>          <td> 0.573</td> <th>  Prob(JB):          </th> <td>2.13e-09</td>\n",
       "</tr>\n",
       "<tr>\n",
       "  <th>Kurtosis:</th>      <td> 4.096</td> <th>  Cond. No.          </th> <td>2.56e+04</td>\n",
       "</tr>\n",
       "</table><br/><br/>Warnings:<br/>[1] Standard Errors assume that the covariance matrix of the errors is correctly specified.<br/>[2] The condition number is large, 2.56e+04. This might indicate that there are<br/>strong multicollinearity or other numerical problems."
      ],
      "text/plain": [
       "<class 'statsmodels.iolib.summary.Summary'>\n",
       "\"\"\"\n",
       "                            OLS Regression Results                            \n",
       "==============================================================================\n",
       "Dep. Variable:                  price   R-squared:                       0.947\n",
       "Model:                            OLS   Adj. R-squared:                  0.946\n",
       "Method:                 Least Squares   F-statistic:                     737.2\n",
       "Date:                Thu, 03 Oct 2019   Prob (F-statistic):          4.65e-231\n",
       "Time:                        14:39:10   Log-Likelihood:                -5864.4\n",
       "No. Observations:                 381   AIC:                         1.175e+04\n",
       "Df Residuals:                     372   BIC:                         1.178e+04\n",
       "Df Model:                           9                                         \n",
       "Covariance Type:            nonrobust                                         \n",
       "================================================================================================\n",
       "                                   coef    std err          t      P>|t|      [0.025      0.975]\n",
       "------------------------------------------------------------------------------------------------\n",
       "area                           295.1452     30.464      9.688      0.000     235.242     355.048\n",
       "bedrooms                      6.531e+05   5.61e+04     11.633      0.000    5.43e+05    7.63e+05\n",
       "parking                       2.783e+05   7.83e+04      3.555      0.000    1.24e+05    4.32e+05\n",
       "mainroad_yes                   6.82e+05   1.69e+05      4.037      0.000     3.5e+05    1.01e+06\n",
       "basement_yes                   4.42e+05   1.31e+05      3.373      0.001    1.84e+05       7e+05\n",
       "hotwaterheating_yes           8.068e+05   2.78e+05      2.905      0.004    2.61e+05    1.35e+06\n",
       "airconditioning_yes           1.011e+06   1.39e+05      7.285      0.000    7.38e+05    1.28e+06\n",
       "prefarea_yes                  4.304e+05   1.52e+05      2.824      0.005    1.31e+05     7.3e+05\n",
       "furnishingstatus_unfurnished -3.459e+05   1.29e+05     -2.673      0.008      -6e+05   -9.14e+04\n",
       "==============================================================================\n",
       "Omnibus:                       29.181   Durbin-Watson:                   1.852\n",
       "Prob(Omnibus):                  0.000   Jarque-Bera (JB):               39.938\n",
       "Skew:                           0.573   Prob(JB):                     2.13e-09\n",
       "Kurtosis:                       4.096   Cond. No.                     2.56e+04\n",
       "==============================================================================\n",
       "\n",
       "Warnings:\n",
       "[1] Standard Errors assume that the covariance matrix of the errors is correctly specified.\n",
       "[2] The condition number is large, 2.56e+04. This might indicate that there are\n",
       "strong multicollinearity or other numerical problems.\n",
       "\"\"\""
      ]
     },
     "execution_count": 45,
     "metadata": {},
     "output_type": "execute_result"
    }
   ],
   "source": [
    "x_train1 = x_train.drop(['bathrooms','furnishingstatus_semi-furnished','guestroom_yes','stories'],axis=1)\n",
    "x_test1 = x_test.drop(['bathrooms','furnishingstatus_semi-furnished','guestroom_yes','stories'],axis=1)\n",
    "#x_const_train = sm.add_constant(x_train)\n",
    "#x_const_test = sm.add_constant(x_test)\n",
    "model = sm.OLS(y_train,x_train1).fit()\n",
    "model.summary()"
   ]
  },
  {
   "cell_type": "code",
   "execution_count": 46,
   "metadata": {},
   "outputs": [
    {
     "data": {
      "text/html": [
       "<div>\n",
       "<style scoped>\n",
       "    .dataframe tbody tr th:only-of-type {\n",
       "        vertical-align: middle;\n",
       "    }\n",
       "\n",
       "    .dataframe tbody tr th {\n",
       "        vertical-align: top;\n",
       "    }\n",
       "\n",
       "    .dataframe thead th {\n",
       "        text-align: right;\n",
       "    }\n",
       "</style>\n",
       "<table border=\"1\" class=\"dataframe\">\n",
       "  <thead>\n",
       "    <tr style=\"text-align: right;\">\n",
       "      <th></th>\n",
       "      <th>vif</th>\n",
       "      <th>features</th>\n",
       "    </tr>\n",
       "  </thead>\n",
       "  <tbody>\n",
       "    <tr>\n",
       "      <td>0</td>\n",
       "      <td>7.813783</td>\n",
       "      <td>area</td>\n",
       "    </tr>\n",
       "    <tr>\n",
       "      <td>1</td>\n",
       "      <td>7.965627</td>\n",
       "      <td>bedrooms</td>\n",
       "    </tr>\n",
       "    <tr>\n",
       "      <td>2</td>\n",
       "      <td>1.907615</td>\n",
       "      <td>parking</td>\n",
       "    </tr>\n",
       "    <tr>\n",
       "      <td>3</td>\n",
       "      <td>6.686823</td>\n",
       "      <td>mainroad_yes</td>\n",
       "    </tr>\n",
       "    <tr>\n",
       "      <td>4</td>\n",
       "      <td>1.675253</td>\n",
       "      <td>basement_yes</td>\n",
       "    </tr>\n",
       "    <tr>\n",
       "      <td>5</td>\n",
       "      <td>1.098991</td>\n",
       "      <td>hotwaterheating_yes</td>\n",
       "    </tr>\n",
       "    <tr>\n",
       "      <td>6</td>\n",
       "      <td>1.661204</td>\n",
       "      <td>airconditioning_yes</td>\n",
       "    </tr>\n",
       "    <tr>\n",
       "      <td>7</td>\n",
       "      <td>1.488713</td>\n",
       "      <td>prefarea_yes</td>\n",
       "    </tr>\n",
       "    <tr>\n",
       "      <td>8</td>\n",
       "      <td>1.407609</td>\n",
       "      <td>furnishingstatus_unfurnished</td>\n",
       "    </tr>\n",
       "  </tbody>\n",
       "</table>\n",
       "</div>"
      ],
      "text/plain": [
       "        vif                      features\n",
       "0  7.813783                          area\n",
       "1  7.965627                      bedrooms\n",
       "2  1.907615                       parking\n",
       "3  6.686823                  mainroad_yes\n",
       "4  1.675253                  basement_yes\n",
       "5  1.098991           hotwaterheating_yes\n",
       "6  1.661204           airconditioning_yes\n",
       "7  1.488713                  prefarea_yes\n",
       "8  1.407609  furnishingstatus_unfurnished"
      ]
     },
     "execution_count": 46,
     "metadata": {},
     "output_type": "execute_result"
    }
   ],
   "source": [
    "vif = [variance_inflation_factor(x_train1.values,i) for i in range(x_train1.shape[1])]\n",
    "vif = pd.DataFrame({'vif':vif,'features':x_train1.columns})\n",
    "vif"
   ]
  },
  {
   "cell_type": "markdown",
   "metadata": {},
   "source": [
    "## We stop here as all the VIF values have come under 10."
   ]
  },
  {
   "cell_type": "code",
   "execution_count": null,
   "metadata": {},
   "outputs": [],
   "source": []
  },
  {
   "cell_type": "markdown",
   "metadata": {},
   "source": [
    "## Linear Regression using Sklearn"
   ]
  },
  {
   "cell_type": "code",
   "execution_count": 57,
   "metadata": {},
   "outputs": [],
   "source": [
    "x_train,x_test,y_train,y_test = train_test_split(x,y,test_size=0.3,random_state=42)"
   ]
  },
  {
   "cell_type": "code",
   "execution_count": 58,
   "metadata": {},
   "outputs": [],
   "source": [
    "from sklearn.linear_model import LinearRegression\n",
    "LR = LinearRegression()\n",
    "LR.fit(x_train,y_train)\n",
    "y_pred = LR.predict(x_test)"
   ]
  },
  {
   "cell_type": "code",
   "execution_count": 59,
   "metadata": {},
   "outputs": [
    {
     "data": {
      "text/plain": [
       "0.6463350878895876"
      ]
     },
     "execution_count": 59,
     "metadata": {},
     "output_type": "execute_result"
    }
   ],
   "source": [
    "LR.score(x_test,y_test)"
   ]
  },
  {
   "cell_type": "code",
   "execution_count": 60,
   "metadata": {},
   "outputs": [],
   "source": [
    "from sklearn import metrics"
   ]
  },
  {
   "cell_type": "code",
   "execution_count": 61,
   "metadata": {},
   "outputs": [
    {
     "data": {
      "text/plain": [
       "1234106.749637685"
      ]
     },
     "execution_count": 61,
     "metadata": {},
     "output_type": "execute_result"
    }
   ],
   "source": [
    "mse = metrics.mean_squared_error(y_test,y_pred)\n",
    "RMSE = np.sqrt(mse)\n",
    "RMSE"
   ]
  },
  {
   "cell_type": "markdown",
   "metadata": {},
   "source": [
    "**Note**\n",
    "\n",
    "We tried to transform the price (log) to check if accuracy may be improved, but there was no significant improvement hence we go ahead with feature selection."
   ]
  },
  {
   "cell_type": "markdown",
   "metadata": {},
   "source": [
    "# RFE for Feature Selection"
   ]
  },
  {
   "cell_type": "code",
   "execution_count": 64,
   "metadata": {},
   "outputs": [
    {
     "data": {
      "text/plain": [
       "GridSearchCV(cv=3, error_score='raise-deprecating',\n",
       "             estimator=RFE(estimator=LinearRegression(copy_X=True,\n",
       "                                                      fit_intercept=True,\n",
       "                                                      n_jobs=None,\n",
       "                                                      normalize=False),\n",
       "                           n_features_to_select=None, step=1, verbose=0),\n",
       "             iid='warn', n_jobs=None,\n",
       "             param_grid=[{'n_features_to_select': [1, 2, 3, 4, 5, 6, 7, 8, 9,\n",
       "                                                   10, 11, 12, 13]}],\n",
       "             pre_dispatch='2*n_jobs', refit=True, return_train_score=True,\n",
       "             scoring='r2', verbose=0)"
      ]
     },
     "execution_count": 64,
     "metadata": {},
     "output_type": "execute_result"
    }
   ],
   "source": [
    "from sklearn.feature_selection import RFE\n",
    "from sklearn.model_selection import GridSearchCV\n",
    "params = [{'n_features_to_select':list(range(1,14))}]\n",
    "\n",
    "LR = LinearRegression()\n",
    "rfe = RFE(LR)\n",
    "model_cv = GridSearchCV(estimator=rfe,param_grid=params,scoring='r2',cv=3,return_train_score=True)\n",
    "\n",
    "model_cv.fit(x_train,y_train)"
   ]
  },
  {
   "cell_type": "code",
   "execution_count": 65,
   "metadata": {},
   "outputs": [
    {
     "data": {
      "text/plain": [
       "{'n_features_to_select': 13}"
      ]
     },
     "execution_count": 65,
     "metadata": {},
     "output_type": "execute_result"
    }
   ],
   "source": [
    "model_cv.best_params_"
   ]
  },
  {
   "cell_type": "code",
   "execution_count": 66,
   "metadata": {},
   "outputs": [
    {
     "data": {
      "text/html": [
       "<div>\n",
       "<style scoped>\n",
       "    .dataframe tbody tr th:only-of-type {\n",
       "        vertical-align: middle;\n",
       "    }\n",
       "\n",
       "    .dataframe tbody tr th {\n",
       "        vertical-align: top;\n",
       "    }\n",
       "\n",
       "    .dataframe thead th {\n",
       "        text-align: right;\n",
       "    }\n",
       "</style>\n",
       "<table border=\"1\" class=\"dataframe\">\n",
       "  <thead>\n",
       "    <tr style=\"text-align: right;\">\n",
       "      <th></th>\n",
       "      <th>mean_fit_time</th>\n",
       "      <th>std_fit_time</th>\n",
       "      <th>mean_score_time</th>\n",
       "      <th>std_score_time</th>\n",
       "      <th>param_n_features_to_select</th>\n",
       "      <th>params</th>\n",
       "      <th>split0_test_score</th>\n",
       "      <th>split1_test_score</th>\n",
       "      <th>split2_test_score</th>\n",
       "      <th>mean_test_score</th>\n",
       "      <th>std_test_score</th>\n",
       "      <th>rank_test_score</th>\n",
       "      <th>split0_train_score</th>\n",
       "      <th>split1_train_score</th>\n",
       "      <th>split2_train_score</th>\n",
       "      <th>mean_train_score</th>\n",
       "      <th>std_train_score</th>\n",
       "    </tr>\n",
       "  </thead>\n",
       "  <tbody>\n",
       "    <tr>\n",
       "      <td>0</td>\n",
       "      <td>0.214679</td>\n",
       "      <td>0.271781</td>\n",
       "      <td>0.003000</td>\n",
       "      <td>1.414223e-03</td>\n",
       "      <td>1</td>\n",
       "      <td>{'n_features_to_select': 1}</td>\n",
       "      <td>0.325055</td>\n",
       "      <td>0.108476</td>\n",
       "      <td>0.273291</td>\n",
       "      <td>0.235607</td>\n",
       "      <td>0.092346</td>\n",
       "      <td>13</td>\n",
       "      <td>0.227110</td>\n",
       "      <td>0.324117</td>\n",
       "      <td>0.277423</td>\n",
       "      <td>0.276217</td>\n",
       "      <td>0.039612</td>\n",
       "    </tr>\n",
       "    <tr>\n",
       "      <td>1</td>\n",
       "      <td>0.018001</td>\n",
       "      <td>0.000817</td>\n",
       "      <td>0.002333</td>\n",
       "      <td>4.713704e-04</td>\n",
       "      <td>2</td>\n",
       "      <td>{'n_features_to_select': 2}</td>\n",
       "      <td>0.419905</td>\n",
       "      <td>0.203398</td>\n",
       "      <td>0.342257</td>\n",
       "      <td>0.321853</td>\n",
       "      <td>0.089558</td>\n",
       "      <td>12</td>\n",
       "      <td>0.371813</td>\n",
       "      <td>0.399295</td>\n",
       "      <td>0.433467</td>\n",
       "      <td>0.401525</td>\n",
       "      <td>0.025220</td>\n",
       "    </tr>\n",
       "    <tr>\n",
       "      <td>2</td>\n",
       "      <td>0.017668</td>\n",
       "      <td>0.000943</td>\n",
       "      <td>0.002000</td>\n",
       "      <td>1.123916e-07</td>\n",
       "      <td>3</td>\n",
       "      <td>{'n_features_to_select': 3}</td>\n",
       "      <td>0.428958</td>\n",
       "      <td>0.405970</td>\n",
       "      <td>0.403771</td>\n",
       "      <td>0.412900</td>\n",
       "      <td>0.011390</td>\n",
       "      <td>11</td>\n",
       "      <td>0.385776</td>\n",
       "      <td>0.470336</td>\n",
       "      <td>0.489815</td>\n",
       "      <td>0.448643</td>\n",
       "      <td>0.045159</td>\n",
       "    </tr>\n",
       "    <tr>\n",
       "      <td>3</td>\n",
       "      <td>0.016334</td>\n",
       "      <td>0.000943</td>\n",
       "      <td>0.002333</td>\n",
       "      <td>4.714266e-04</td>\n",
       "      <td>4</td>\n",
       "      <td>{'n_features_to_select': 4}</td>\n",
       "      <td>0.475190</td>\n",
       "      <td>0.475172</td>\n",
       "      <td>0.414235</td>\n",
       "      <td>0.454865</td>\n",
       "      <td>0.028730</td>\n",
       "      <td>10</td>\n",
       "      <td>0.452107</td>\n",
       "      <td>0.503708</td>\n",
       "      <td>0.502272</td>\n",
       "      <td>0.486029</td>\n",
       "      <td>0.023994</td>\n",
       "    </tr>\n",
       "    <tr>\n",
       "      <td>4</td>\n",
       "      <td>0.019001</td>\n",
       "      <td>0.000816</td>\n",
       "      <td>0.002000</td>\n",
       "      <td>0.000000e+00</td>\n",
       "      <td>5</td>\n",
       "      <td>{'n_features_to_select': 5}</td>\n",
       "      <td>0.471831</td>\n",
       "      <td>0.490301</td>\n",
       "      <td>0.440338</td>\n",
       "      <td>0.467490</td>\n",
       "      <td>0.020627</td>\n",
       "      <td>9</td>\n",
       "      <td>0.496322</td>\n",
       "      <td>0.523001</td>\n",
       "      <td>0.556756</td>\n",
       "      <td>0.525360</td>\n",
       "      <td>0.024728</td>\n",
       "    </tr>\n",
       "  </tbody>\n",
       "</table>\n",
       "</div>"
      ],
      "text/plain": [
       "   mean_fit_time  std_fit_time  mean_score_time  std_score_time  \\\n",
       "0       0.214679      0.271781         0.003000    1.414223e-03   \n",
       "1       0.018001      0.000817         0.002333    4.713704e-04   \n",
       "2       0.017668      0.000943         0.002000    1.123916e-07   \n",
       "3       0.016334      0.000943         0.002333    4.714266e-04   \n",
       "4       0.019001      0.000816         0.002000    0.000000e+00   \n",
       "\n",
       "  param_n_features_to_select                       params  split0_test_score  \\\n",
       "0                          1  {'n_features_to_select': 1}           0.325055   \n",
       "1                          2  {'n_features_to_select': 2}           0.419905   \n",
       "2                          3  {'n_features_to_select': 3}           0.428958   \n",
       "3                          4  {'n_features_to_select': 4}           0.475190   \n",
       "4                          5  {'n_features_to_select': 5}           0.471831   \n",
       "\n",
       "   split1_test_score  split2_test_score  mean_test_score  std_test_score  \\\n",
       "0           0.108476           0.273291         0.235607        0.092346   \n",
       "1           0.203398           0.342257         0.321853        0.089558   \n",
       "2           0.405970           0.403771         0.412900        0.011390   \n",
       "3           0.475172           0.414235         0.454865        0.028730   \n",
       "4           0.490301           0.440338         0.467490        0.020627   \n",
       "\n",
       "   rank_test_score  split0_train_score  split1_train_score  \\\n",
       "0               13            0.227110            0.324117   \n",
       "1               12            0.371813            0.399295   \n",
       "2               11            0.385776            0.470336   \n",
       "3               10            0.452107            0.503708   \n",
       "4                9            0.496322            0.523001   \n",
       "\n",
       "   split2_train_score  mean_train_score  std_train_score  \n",
       "0            0.277423          0.276217         0.039612  \n",
       "1            0.433467          0.401525         0.025220  \n",
       "2            0.489815          0.448643         0.045159  \n",
       "3            0.502272          0.486029         0.023994  \n",
       "4            0.556756          0.525360         0.024728  "
      ]
     },
     "execution_count": 66,
     "metadata": {},
     "output_type": "execute_result"
    }
   ],
   "source": [
    "cv_results = pd.DataFrame(model_cv.cv_results_)\n",
    "cv_results.head()"
   ]
  },
  {
   "cell_type": "code",
   "execution_count": 72,
   "metadata": {},
   "outputs": [
    {
     "data": {
      "text/plain": [
       "[<matplotlib.lines.Line2D at 0x12833b38>]"
      ]
     },
     "execution_count": 72,
     "metadata": {},
     "output_type": "execute_result"
    },
    {
     "data": {
      "image/png": "[encoded data removed]",
      "text/plain": [
       "<Figure size 432x288 with 1 Axes>"
      ]
     },
     "metadata": {
      "needs_background": "light"
     },
     "output_type": "display_data"
    }
   ],
   "source": [
    "plt.plot(cv_results['param_n_features_to_select'],cv_results['mean_test_score'],color='r')\n",
    "plt.plot(cv_results['param_n_features_to_select'],cv_results['mean_train_score'],color='b')"
   ]
  },
  {
   "cell_type": "code",
   "execution_count": 76,
   "metadata": {},
   "outputs": [
    {
     "name": "stdout",
     "output_type": "stream",
     "text": [
      "0.6028024741762792\n"
     ]
    }
   ],
   "source": [
    "from sklearn.metrics import r2_score\n",
    "n_features = 10\n",
    "rfe = RFE(LR,n_features_to_select=n_features)\n",
    "rfe = rfe.fit(x_train,y_train)\n",
    "\n",
    "y_pred = rfe.predict(x_test)\n",
    "r2 = r2_score(y_test,y_pred)\n",
    "print(r2)"
   ]
  },
  {
   "cell_type": "code",
   "execution_count": 77,
   "metadata": {},
   "outputs": [
    {
     "data": {
      "text/html": [
       "<div>\n",
       "<style scoped>\n",
       "    .dataframe tbody tr th:only-of-type {\n",
       "        vertical-align: middle;\n",
       "    }\n",
       "\n",
       "    .dataframe tbody tr th {\n",
       "        vertical-align: top;\n",
       "    }\n",
       "\n",
       "    .dataframe thead th {\n",
       "        text-align: right;\n",
       "    }\n",
       "</style>\n",
       "<table border=\"1\" class=\"dataframe\">\n",
       "  <thead>\n",
       "    <tr style=\"text-align: right;\">\n",
       "      <th></th>\n",
       "      <th>cols</th>\n",
       "      <th>select</th>\n",
       "      <th>rank</th>\n",
       "    </tr>\n",
       "  </thead>\n",
       "  <tbody>\n",
       "    <tr>\n",
       "      <td>0</td>\n",
       "      <td>area</td>\n",
       "      <td>False</td>\n",
       "      <td>4</td>\n",
       "    </tr>\n",
       "    <tr>\n",
       "      <td>1</td>\n",
       "      <td>bedrooms</td>\n",
       "      <td>False</td>\n",
       "      <td>3</td>\n",
       "    </tr>\n",
       "    <tr>\n",
       "      <td>2</td>\n",
       "      <td>bathrooms</td>\n",
       "      <td>True</td>\n",
       "      <td>1</td>\n",
       "    </tr>\n",
       "    <tr>\n",
       "      <td>3</td>\n",
       "      <td>stories</td>\n",
       "      <td>True</td>\n",
       "      <td>1</td>\n",
       "    </tr>\n",
       "    <tr>\n",
       "      <td>4</td>\n",
       "      <td>parking</td>\n",
       "      <td>True</td>\n",
       "      <td>1</td>\n",
       "    </tr>\n",
       "    <tr>\n",
       "      <td>5</td>\n",
       "      <td>mainroad_yes</td>\n",
       "      <td>True</td>\n",
       "      <td>1</td>\n",
       "    </tr>\n",
       "    <tr>\n",
       "      <td>6</td>\n",
       "      <td>guestroom_yes</td>\n",
       "      <td>True</td>\n",
       "      <td>1</td>\n",
       "    </tr>\n",
       "    <tr>\n",
       "      <td>7</td>\n",
       "      <td>basement_yes</td>\n",
       "      <td>True</td>\n",
       "      <td>1</td>\n",
       "    </tr>\n",
       "    <tr>\n",
       "      <td>8</td>\n",
       "      <td>hotwaterheating_yes</td>\n",
       "      <td>True</td>\n",
       "      <td>1</td>\n",
       "    </tr>\n",
       "    <tr>\n",
       "      <td>9</td>\n",
       "      <td>airconditioning_yes</td>\n",
       "      <td>True</td>\n",
       "      <td>1</td>\n",
       "    </tr>\n",
       "    <tr>\n",
       "      <td>10</td>\n",
       "      <td>prefarea_yes</td>\n",
       "      <td>True</td>\n",
       "      <td>1</td>\n",
       "    </tr>\n",
       "    <tr>\n",
       "      <td>11</td>\n",
       "      <td>furnishingstatus_semi-furnished</td>\n",
       "      <td>False</td>\n",
       "      <td>2</td>\n",
       "    </tr>\n",
       "    <tr>\n",
       "      <td>12</td>\n",
       "      <td>furnishingstatus_unfurnished</td>\n",
       "      <td>True</td>\n",
       "      <td>1</td>\n",
       "    </tr>\n",
       "  </tbody>\n",
       "</table>\n",
       "</div>"
      ],
      "text/plain": [
       "                               cols  select  rank\n",
       "0                              area   False     4\n",
       "1                          bedrooms   False     3\n",
       "2                         bathrooms    True     1\n",
       "3                           stories    True     1\n",
       "4                           parking    True     1\n",
       "5                      mainroad_yes    True     1\n",
       "6                     guestroom_yes    True     1\n",
       "7                      basement_yes    True     1\n",
       "8               hotwaterheating_yes    True     1\n",
       "9               airconditioning_yes    True     1\n",
       "10                     prefarea_yes    True     1\n",
       "11  furnishingstatus_semi-furnished   False     2\n",
       "12     furnishingstatus_unfurnished    True     1"
      ]
     },
     "execution_count": 77,
     "metadata": {},
     "output_type": "execute_result"
    }
   ],
   "source": [
    "cols = pd.DataFrame(list(zip(x_train.columns,rfe.support_,rfe.ranking_)),\n",
    "                   columns=['cols','select','rank'])\n",
    "cols"
   ]
  },
  {
   "cell_type": "code",
   "execution_count": 80,
   "metadata": {},
   "outputs": [
    {
     "data": {
      "text/plain": [
       "<matplotlib.collections.PathCollection at 0x129c6358>"
      ]
     },
     "execution_count": 80,
     "metadata": {},
     "output_type": "execute_result"
    },
    {
     "data": {
      "image/png": "[encoded data removed]",
      "text/plain": [
       "<Figure size 432x288 with 1 Axes>"
      ]
     },
     "metadata": {
      "needs_background": "light"
     },
     "output_type": "display_data"
    }
   ],
   "source": [
    "plt.scatter(y_test,y_pred)\n",
    "plt.scatter(y_test,y_test)"
   ]
  },
  {
   "cell_type": "markdown",
   "metadata": {},
   "source": [
    "# Very Important"
   ]
  },
  {
   "cell_type": "markdown",
   "metadata": {},
   "source": [
    "**VIF**\n",
    "\n",
    "1. Each feature will now become target and linear regression is performed and r2 score is calculated.\n",
    "2. VIF = 1-r2score for each feature\n",
    "3. VIF of more than 10 is not acceptable."
   ]
  },
  {
   "cell_type": "markdown",
   "metadata": {},
   "source": [
    "# Lasso and Ridge"
   ]
  },
  {
   "cell_type": "code",
   "execution_count": 81,
   "metadata": {},
   "outputs": [],
   "source": [
    "from sklearn.linear_model import Lasso,Ridge,ElasticNet,ElasticNetCV"
   ]
  },
  {
   "cell_type": "code",
   "execution_count": 82,
   "metadata": {},
   "outputs": [],
   "source": [
    "LR = LinearRegression()\n",
    "ls = Lasso()\n",
    "LR.fit(x_train,y_train)\n",
    "ls.fit(x_train,y_train)\n",
    "y_p_LR = LR.predict(x_test)\n",
    "y_p_ls = ls.predict(x_test)"
   ]
  },
  {
   "cell_type": "code",
   "execution_count": 83,
   "metadata": {},
   "outputs": [
    {
     "data": {
      "text/plain": [
       "0.6463346704905588"
      ]
     },
     "execution_count": 83,
     "metadata": {},
     "output_type": "execute_result"
    }
   ],
   "source": [
    "ls.score(x_test,y_test)"
   ]
  },
  {
   "cell_type": "code",
   "execution_count": 84,
   "metadata": {},
   "outputs": [
    {
     "data": {
      "text/plain": [
       "0.6463350878895876"
      ]
     },
     "execution_count": 84,
     "metadata": {},
     "output_type": "execute_result"
    }
   ],
   "source": [
    "LR.score(x_test,y_test)"
   ]
  },
  {
   "cell_type": "code",
   "execution_count": 85,
   "metadata": {},
   "outputs": [
    {
     "data": {
      "text/plain": [
       "array([ 2.53288472e+02,  8.08925896e+04,  1.11474763e+06,  4.17268707e+05,\n",
       "        3.03111289e+05,  4.08066107e+05,  2.75705568e+05,  4.82603008e+05,\n",
       "        6.16353623e+05,  6.85835170e+05,  5.09188135e+05, -1.21643653e+05,\n",
       "       -3.91183281e+05])"
      ]
     },
     "execution_count": 85,
     "metadata": {},
     "output_type": "execute_result"
    }
   ],
   "source": [
    "ls.coef_"
   ]
  },
  {
   "cell_type": "code",
   "execution_count": 86,
   "metadata": {},
   "outputs": [
    {
     "data": {
      "text/plain": [
       "95786.77973843087"
      ]
     },
     "execution_count": 86,
     "metadata": {},
     "output_type": "execute_result"
    }
   ],
   "source": [
    "ls.intercept_"
   ]
  },
  {
   "cell_type": "code",
   "execution_count": 89,
   "metadata": {},
   "outputs": [
    {
     "data": {
      "text/html": [
       "<div>\n",
       "<style scoped>\n",
       "    .dataframe tbody tr th:only-of-type {\n",
       "        vertical-align: middle;\n",
       "    }\n",
       "\n",
       "    .dataframe tbody tr th {\n",
       "        vertical-align: top;\n",
       "    }\n",
       "\n",
       "    .dataframe thead th {\n",
       "        text-align: right;\n",
       "    }\n",
       "</style>\n",
       "<table border=\"1\" class=\"dataframe\">\n",
       "  <thead>\n",
       "    <tr style=\"text-align: right;\">\n",
       "      <th></th>\n",
       "      <th>Features</th>\n",
       "      <th>Coeffs</th>\n",
       "    </tr>\n",
       "  </thead>\n",
       "  <tbody>\n",
       "    <tr>\n",
       "      <td>0</td>\n",
       "      <td>area</td>\n",
       "      <td>2.532885e+02</td>\n",
       "    </tr>\n",
       "    <tr>\n",
       "      <td>1</td>\n",
       "      <td>bedrooms</td>\n",
       "      <td>8.089259e+04</td>\n",
       "    </tr>\n",
       "    <tr>\n",
       "      <td>2</td>\n",
       "      <td>bathrooms</td>\n",
       "      <td>1.114748e+06</td>\n",
       "    </tr>\n",
       "    <tr>\n",
       "      <td>3</td>\n",
       "      <td>stories</td>\n",
       "      <td>4.172687e+05</td>\n",
       "    </tr>\n",
       "    <tr>\n",
       "      <td>4</td>\n",
       "      <td>parking</td>\n",
       "      <td>3.031113e+05</td>\n",
       "    </tr>\n",
       "    <tr>\n",
       "      <td>5</td>\n",
       "      <td>mainroad_yes</td>\n",
       "      <td>4.080661e+05</td>\n",
       "    </tr>\n",
       "    <tr>\n",
       "      <td>6</td>\n",
       "      <td>guestroom_yes</td>\n",
       "      <td>2.757056e+05</td>\n",
       "    </tr>\n",
       "    <tr>\n",
       "      <td>7</td>\n",
       "      <td>basement_yes</td>\n",
       "      <td>4.826030e+05</td>\n",
       "    </tr>\n",
       "    <tr>\n",
       "      <td>8</td>\n",
       "      <td>hotwaterheating_yes</td>\n",
       "      <td>6.163536e+05</td>\n",
       "    </tr>\n",
       "    <tr>\n",
       "      <td>9</td>\n",
       "      <td>airconditioning_yes</td>\n",
       "      <td>6.858352e+05</td>\n",
       "    </tr>\n",
       "    <tr>\n",
       "      <td>10</td>\n",
       "      <td>prefarea_yes</td>\n",
       "      <td>5.091881e+05</td>\n",
       "    </tr>\n",
       "    <tr>\n",
       "      <td>11</td>\n",
       "      <td>furnishingstatus_semi-furnished</td>\n",
       "      <td>-1.216437e+05</td>\n",
       "    </tr>\n",
       "    <tr>\n",
       "      <td>12</td>\n",
       "      <td>furnishingstatus_unfurnished</td>\n",
       "      <td>-3.911833e+05</td>\n",
       "    </tr>\n",
       "  </tbody>\n",
       "</table>\n",
       "</div>"
      ],
      "text/plain": [
       "                           Features        Coeffs\n",
       "0                              area  2.532885e+02\n",
       "1                          bedrooms  8.089259e+04\n",
       "2                         bathrooms  1.114748e+06\n",
       "3                           stories  4.172687e+05\n",
       "4                           parking  3.031113e+05\n",
       "5                      mainroad_yes  4.080661e+05\n",
       "6                     guestroom_yes  2.757056e+05\n",
       "7                      basement_yes  4.826030e+05\n",
       "8               hotwaterheating_yes  6.163536e+05\n",
       "9               airconditioning_yes  6.858352e+05\n",
       "10                     prefarea_yes  5.091881e+05\n",
       "11  furnishingstatus_semi-furnished -1.216437e+05\n",
       "12     furnishingstatus_unfurnished -3.911833e+05"
      ]
     },
     "execution_count": 89,
     "metadata": {},
     "output_type": "execute_result"
    }
   ],
   "source": [
    "pd.DataFrame(list(zip(x_train.columns,ls.coef_)),columns=['Features','Coeffs'])"
   ]
  },
  {
   "cell_type": "code",
   "execution_count": 93,
   "metadata": {},
   "outputs": [],
   "source": [
    "ls10 = Lasso(alpha=10)\n",
    "ls10.fit(x_train,y_train)\n",
    "y_p_ls10 = ls10.predict(x_test)"
   ]
  },
  {
   "cell_type": "code",
   "execution_count": 95,
   "metadata": {},
   "outputs": [
    {
     "data": {
      "text/plain": [
       "0.6463309126388551"
      ]
     },
     "execution_count": 95,
     "metadata": {},
     "output_type": "execute_result"
    }
   ],
   "source": [
    "ls10.score(x_test,y_test)"
   ]
  },
  {
   "cell_type": "code",
   "execution_count": 109,
   "metadata": {},
   "outputs": [],
   "source": [
    "ls000001 = Lasso(alpha=0.00001)\n",
    "ls000001.fit(x_train,y_train)\n",
    "y_p_ls0001 = ls0001.predict(x_test)"
   ]
  },
  {
   "cell_type": "code",
   "execution_count": 111,
   "metadata": {},
   "outputs": [
    {
     "data": {
      "text/plain": [
       "0.6463350878854139"
      ]
     },
     "execution_count": 111,
     "metadata": {},
     "output_type": "execute_result"
    }
   ],
   "source": [
    "ls000001.score(x_test,y_test)"
   ]
  },
  {
   "cell_type": "code",
   "execution_count": 112,
   "metadata": {},
   "outputs": [
    {
     "data": {
      "text/plain": [
       "array([ 2.53287252e+02,  8.08931413e+04,  1.11475118e+06,  4.17267580e+05,\n",
       "        3.03111236e+05,  4.08073682e+05,  2.75710533e+05,  4.82603522e+05,\n",
       "        6.16375423e+05,  6.85839346e+05,  5.09192089e+05, -1.21652663e+05,\n",
       "       -3.91191241e+05])"
      ]
     },
     "execution_count": 112,
     "metadata": {},
     "output_type": "execute_result"
    }
   ],
   "source": [
    "ls000001.coef_"
   ]
  },
  {
   "cell_type": "code",
   "execution_count": 113,
   "metadata": {},
   "outputs": [
    {
     "data": {
      "text/html": [
       "<div>\n",
       "<style scoped>\n",
       "    .dataframe tbody tr th:only-of-type {\n",
       "        vertical-align: middle;\n",
       "    }\n",
       "\n",
       "    .dataframe tbody tr th {\n",
       "        vertical-align: top;\n",
       "    }\n",
       "\n",
       "    .dataframe thead th {\n",
       "        text-align: right;\n",
       "    }\n",
       "</style>\n",
       "<table border=\"1\" class=\"dataframe\">\n",
       "  <thead>\n",
       "    <tr style=\"text-align: right;\">\n",
       "      <th></th>\n",
       "      <th>Features</th>\n",
       "      <th>Coeffs</th>\n",
       "    </tr>\n",
       "  </thead>\n",
       "  <tbody>\n",
       "    <tr>\n",
       "      <td>0</td>\n",
       "      <td>area</td>\n",
       "      <td>2.532873e+02</td>\n",
       "    </tr>\n",
       "    <tr>\n",
       "      <td>1</td>\n",
       "      <td>bedrooms</td>\n",
       "      <td>8.089314e+04</td>\n",
       "    </tr>\n",
       "    <tr>\n",
       "      <td>2</td>\n",
       "      <td>bathrooms</td>\n",
       "      <td>1.114751e+06</td>\n",
       "    </tr>\n",
       "    <tr>\n",
       "      <td>3</td>\n",
       "      <td>stories</td>\n",
       "      <td>4.172676e+05</td>\n",
       "    </tr>\n",
       "    <tr>\n",
       "      <td>4</td>\n",
       "      <td>parking</td>\n",
       "      <td>3.031112e+05</td>\n",
       "    </tr>\n",
       "    <tr>\n",
       "      <td>5</td>\n",
       "      <td>mainroad_yes</td>\n",
       "      <td>4.080737e+05</td>\n",
       "    </tr>\n",
       "    <tr>\n",
       "      <td>6</td>\n",
       "      <td>guestroom_yes</td>\n",
       "      <td>2.757105e+05</td>\n",
       "    </tr>\n",
       "    <tr>\n",
       "      <td>7</td>\n",
       "      <td>basement_yes</td>\n",
       "      <td>4.826035e+05</td>\n",
       "    </tr>\n",
       "    <tr>\n",
       "      <td>8</td>\n",
       "      <td>hotwaterheating_yes</td>\n",
       "      <td>6.163754e+05</td>\n",
       "    </tr>\n",
       "    <tr>\n",
       "      <td>9</td>\n",
       "      <td>airconditioning_yes</td>\n",
       "      <td>6.858393e+05</td>\n",
       "    </tr>\n",
       "    <tr>\n",
       "      <td>10</td>\n",
       "      <td>prefarea_yes</td>\n",
       "      <td>5.091921e+05</td>\n",
       "    </tr>\n",
       "    <tr>\n",
       "      <td>11</td>\n",
       "      <td>furnishingstatus_semi-furnished</td>\n",
       "      <td>-1.216527e+05</td>\n",
       "    </tr>\n",
       "    <tr>\n",
       "      <td>12</td>\n",
       "      <td>furnishingstatus_unfurnished</td>\n",
       "      <td>-3.911912e+05</td>\n",
       "    </tr>\n",
       "  </tbody>\n",
       "</table>\n",
       "</div>"
      ],
      "text/plain": [
       "                           Features        Coeffs\n",
       "0                              area  2.532873e+02\n",
       "1                          bedrooms  8.089314e+04\n",
       "2                         bathrooms  1.114751e+06\n",
       "3                           stories  4.172676e+05\n",
       "4                           parking  3.031112e+05\n",
       "5                      mainroad_yes  4.080737e+05\n",
       "6                     guestroom_yes  2.757105e+05\n",
       "7                      basement_yes  4.826035e+05\n",
       "8               hotwaterheating_yes  6.163754e+05\n",
       "9               airconditioning_yes  6.858393e+05\n",
       "10                     prefarea_yes  5.091921e+05\n",
       "11  furnishingstatus_semi-furnished -1.216527e+05\n",
       "12     furnishingstatus_unfurnished -3.911912e+05"
      ]
     },
     "execution_count": 113,
     "metadata": {},
     "output_type": "execute_result"
    }
   ],
   "source": [
    "pd.DataFrame(list(zip(x_train.columns,ls000001.coef_)),columns=['Features','Coeffs'])"
   ]
  },
  {
   "cell_type": "code",
   "execution_count": 120,
   "metadata": {},
   "outputs": [],
   "source": [
    "ls100000 = Lasso(alpha=100000)\n",
    "ls100000.fit(x_train,y_train)\n",
    "y_p_ls100000 = ls100000.predict(x_test)"
   ]
  },
  {
   "cell_type": "code",
   "execution_count": 121,
   "metadata": {},
   "outputs": [
    {
     "data": {
      "text/plain": [
       "array([ 3.49392154e+02,  5.92455754e+04,  7.61966201e+05,  4.32661293e+05,\n",
       "        2.40144756e+05,  0.00000000e+00,  0.00000000e+00,  3.27891486e+05,\n",
       "        0.00000000e+00,  3.33101652e+05,  8.37783335e+04,  0.00000000e+00,\n",
       "       -3.25647509e+04])"
      ]
     },
     "execution_count": 121,
     "metadata": {},
     "output_type": "execute_result"
    }
   ],
   "source": [
    "ls100000.coef_"
   ]
  },
  {
   "cell_type": "code",
   "execution_count": 122,
   "metadata": {},
   "outputs": [
    {
     "data": {
      "text/html": [
       "<div>\n",
       "<style scoped>\n",
       "    .dataframe tbody tr th:only-of-type {\n",
       "        vertical-align: middle;\n",
       "    }\n",
       "\n",
       "    .dataframe tbody tr th {\n",
       "        vertical-align: top;\n",
       "    }\n",
       "\n",
       "    .dataframe thead th {\n",
       "        text-align: right;\n",
       "    }\n",
       "</style>\n",
       "<table border=\"1\" class=\"dataframe\">\n",
       "  <thead>\n",
       "    <tr style=\"text-align: right;\">\n",
       "      <th></th>\n",
       "      <th>Features</th>\n",
       "      <th>Coeffs</th>\n",
       "    </tr>\n",
       "  </thead>\n",
       "  <tbody>\n",
       "    <tr>\n",
       "      <td>0</td>\n",
       "      <td>area</td>\n",
       "      <td>349.392154</td>\n",
       "    </tr>\n",
       "    <tr>\n",
       "      <td>1</td>\n",
       "      <td>bedrooms</td>\n",
       "      <td>59245.575433</td>\n",
       "    </tr>\n",
       "    <tr>\n",
       "      <td>2</td>\n",
       "      <td>bathrooms</td>\n",
       "      <td>761966.201405</td>\n",
       "    </tr>\n",
       "    <tr>\n",
       "      <td>3</td>\n",
       "      <td>stories</td>\n",
       "      <td>432661.292851</td>\n",
       "    </tr>\n",
       "    <tr>\n",
       "      <td>4</td>\n",
       "      <td>parking</td>\n",
       "      <td>240144.755734</td>\n",
       "    </tr>\n",
       "    <tr>\n",
       "      <td>5</td>\n",
       "      <td>mainroad_yes</td>\n",
       "      <td>0.000000</td>\n",
       "    </tr>\n",
       "    <tr>\n",
       "      <td>6</td>\n",
       "      <td>guestroom_yes</td>\n",
       "      <td>0.000000</td>\n",
       "    </tr>\n",
       "    <tr>\n",
       "      <td>7</td>\n",
       "      <td>basement_yes</td>\n",
       "      <td>327891.485777</td>\n",
       "    </tr>\n",
       "    <tr>\n",
       "      <td>8</td>\n",
       "      <td>hotwaterheating_yes</td>\n",
       "      <td>0.000000</td>\n",
       "    </tr>\n",
       "    <tr>\n",
       "      <td>9</td>\n",
       "      <td>airconditioning_yes</td>\n",
       "      <td>333101.651646</td>\n",
       "    </tr>\n",
       "    <tr>\n",
       "      <td>10</td>\n",
       "      <td>prefarea_yes</td>\n",
       "      <td>83778.333450</td>\n",
       "    </tr>\n",
       "    <tr>\n",
       "      <td>11</td>\n",
       "      <td>furnishingstatus_semi-furnished</td>\n",
       "      <td>0.000000</td>\n",
       "    </tr>\n",
       "    <tr>\n",
       "      <td>12</td>\n",
       "      <td>furnishingstatus_unfurnished</td>\n",
       "      <td>-32564.750864</td>\n",
       "    </tr>\n",
       "  </tbody>\n",
       "</table>\n",
       "</div>"
      ],
      "text/plain": [
       "                           Features         Coeffs\n",
       "0                              area     349.392154\n",
       "1                          bedrooms   59245.575433\n",
       "2                         bathrooms  761966.201405\n",
       "3                           stories  432661.292851\n",
       "4                           parking  240144.755734\n",
       "5                      mainroad_yes       0.000000\n",
       "6                     guestroom_yes       0.000000\n",
       "7                      basement_yes  327891.485777\n",
       "8               hotwaterheating_yes       0.000000\n",
       "9               airconditioning_yes  333101.651646\n",
       "10                     prefarea_yes   83778.333450\n",
       "11  furnishingstatus_semi-furnished       0.000000\n",
       "12     furnishingstatus_unfurnished  -32564.750864"
      ]
     },
     "execution_count": 122,
     "metadata": {},
     "output_type": "execute_result"
    }
   ],
   "source": [
    "pd.DataFrame(list(zip(x_train.columns,ls100000.coef_)),columns=['Features','Coeffs'])"
   ]
  },
  {
   "cell_type": "markdown",
   "metadata": {},
   "source": [
    "# Ridge"
   ]
  },
  {
   "cell_type": "code",
   "execution_count": 123,
   "metadata": {},
   "outputs": [],
   "source": [
    "ridge = Ridge()\n",
    "ridge.fit(x_train,y_train)\n",
    "y_pred = ridge.predict(x_test)"
   ]
  },
  {
   "cell_type": "code",
   "execution_count": 124,
   "metadata": {},
   "outputs": [
    {
     "data": {
      "text/plain": [
       "0.6457927843743896"
      ]
     },
     "execution_count": 124,
     "metadata": {},
     "output_type": "execute_result"
    }
   ],
   "source": [
    "ridge.score(x_test,y_test)"
   ]
  },
  {
   "cell_type": "code",
   "execution_count": 125,
   "metadata": {},
   "outputs": [
    {
     "data": {
      "text/html": [
       "<div>\n",
       "<style scoped>\n",
       "    .dataframe tbody tr th:only-of-type {\n",
       "        vertical-align: middle;\n",
       "    }\n",
       "\n",
       "    .dataframe tbody tr th {\n",
       "        vertical-align: top;\n",
       "    }\n",
       "\n",
       "    .dataframe thead th {\n",
       "        text-align: right;\n",
       "    }\n",
       "</style>\n",
       "<table border=\"1\" class=\"dataframe\">\n",
       "  <thead>\n",
       "    <tr style=\"text-align: right;\">\n",
       "      <th></th>\n",
       "      <th>Features</th>\n",
       "      <th>Coeffs</th>\n",
       "    </tr>\n",
       "  </thead>\n",
       "  <tbody>\n",
       "    <tr>\n",
       "      <td>0</td>\n",
       "      <td>area</td>\n",
       "      <td>2.548261e+02</td>\n",
       "    </tr>\n",
       "    <tr>\n",
       "      <td>1</td>\n",
       "      <td>bedrooms</td>\n",
       "      <td>8.455633e+04</td>\n",
       "    </tr>\n",
       "    <tr>\n",
       "      <td>2</td>\n",
       "      <td>bathrooms</td>\n",
       "      <td>1.099963e+06</td>\n",
       "    </tr>\n",
       "    <tr>\n",
       "      <td>3</td>\n",
       "      <td>stories</td>\n",
       "      <td>4.193109e+05</td>\n",
       "    </tr>\n",
       "    <tr>\n",
       "      <td>4</td>\n",
       "      <td>parking</td>\n",
       "      <td>3.043556e+05</td>\n",
       "    </tr>\n",
       "    <tr>\n",
       "      <td>5</td>\n",
       "      <td>mainroad_yes</td>\n",
       "      <td>3.998649e+05</td>\n",
       "    </tr>\n",
       "    <tr>\n",
       "      <td>6</td>\n",
       "      <td>guestroom_yes</td>\n",
       "      <td>2.740628e+05</td>\n",
       "    </tr>\n",
       "    <tr>\n",
       "      <td>7</td>\n",
       "      <td>basement_yes</td>\n",
       "      <td>4.812783e+05</td>\n",
       "    </tr>\n",
       "    <tr>\n",
       "      <td>8</td>\n",
       "      <td>hotwaterheating_yes</td>\n",
       "      <td>5.823741e+05</td>\n",
       "    </tr>\n",
       "    <tr>\n",
       "      <td>9</td>\n",
       "      <td>airconditioning_yes</td>\n",
       "      <td>6.761131e+05</td>\n",
       "    </tr>\n",
       "    <tr>\n",
       "      <td>10</td>\n",
       "      <td>prefarea_yes</td>\n",
       "      <td>5.022221e+05</td>\n",
       "    </tr>\n",
       "    <tr>\n",
       "      <td>11</td>\n",
       "      <td>furnishingstatus_semi-furnished</td>\n",
       "      <td>-1.174821e+05</td>\n",
       "    </tr>\n",
       "    <tr>\n",
       "      <td>12</td>\n",
       "      <td>furnishingstatus_unfurnished</td>\n",
       "      <td>-3.870098e+05</td>\n",
       "    </tr>\n",
       "  </tbody>\n",
       "</table>\n",
       "</div>"
      ],
      "text/plain": [
       "                           Features        Coeffs\n",
       "0                              area  2.548261e+02\n",
       "1                          bedrooms  8.455633e+04\n",
       "2                         bathrooms  1.099963e+06\n",
       "3                           stories  4.193109e+05\n",
       "4                           parking  3.043556e+05\n",
       "5                      mainroad_yes  3.998649e+05\n",
       "6                     guestroom_yes  2.740628e+05\n",
       "7                      basement_yes  4.812783e+05\n",
       "8               hotwaterheating_yes  5.823741e+05\n",
       "9               airconditioning_yes  6.761131e+05\n",
       "10                     prefarea_yes  5.022221e+05\n",
       "11  furnishingstatus_semi-furnished -1.174821e+05\n",
       "12     furnishingstatus_unfurnished -3.870098e+05"
      ]
     },
     "execution_count": 125,
     "metadata": {},
     "output_type": "execute_result"
    }
   ],
   "source": [
    "pd.DataFrame(list(zip(x_train.columns,ridge.coef_)),columns=['Features','Coeffs'])"
   ]
  },
  {
   "cell_type": "code",
   "execution_count": null,
   "metadata": {},
   "outputs": [],
   "source": []
  },
  {
   "cell_type": "code",
   "execution_count": 135,
   "metadata": {},
   "outputs": [],
   "source": [
    "ridge = Ridge(alpha=)\n",
    "ridge.fit(x_train,y_train)\n",
    "y_pred = ridge.predict(x_test)"
   ]
  },
  {
   "cell_type": "code",
   "execution_count": 136,
   "metadata": {},
   "outputs": [
    {
     "data": {
      "text/plain": [
       "0.6462812813242444"
      ]
     },
     "execution_count": 136,
     "metadata": {},
     "output_type": "execute_result"
    }
   ],
   "source": [
    "ridge.score(x_test,y_test)"
   ]
  },
  {
   "cell_type": "code",
   "execution_count": 137,
   "metadata": {},
   "outputs": [
    {
     "data": {
      "text/html": [
       "<div>\n",
       "<style scoped>\n",
       "    .dataframe tbody tr th:only-of-type {\n",
       "        vertical-align: middle;\n",
       "    }\n",
       "\n",
       "    .dataframe tbody tr th {\n",
       "        vertical-align: top;\n",
       "    }\n",
       "\n",
       "    .dataframe thead th {\n",
       "        text-align: right;\n",
       "    }\n",
       "</style>\n",
       "<table border=\"1\" class=\"dataframe\">\n",
       "  <thead>\n",
       "    <tr style=\"text-align: right;\">\n",
       "      <th></th>\n",
       "      <th>Features</th>\n",
       "      <th>Coeffs</th>\n",
       "    </tr>\n",
       "  </thead>\n",
       "  <tbody>\n",
       "    <tr>\n",
       "      <td>0</td>\n",
       "      <td>area</td>\n",
       "      <td>2.534433e+02</td>\n",
       "    </tr>\n",
       "    <tr>\n",
       "      <td>1</td>\n",
       "      <td>bedrooms</td>\n",
       "      <td>8.126434e+04</td>\n",
       "    </tr>\n",
       "    <tr>\n",
       "      <td>2</td>\n",
       "      <td>bathrooms</td>\n",
       "      <td>1.113253e+06</td>\n",
       "    </tr>\n",
       "    <tr>\n",
       "      <td>3</td>\n",
       "      <td>stories</td>\n",
       "      <td>4.174819e+05</td>\n",
       "    </tr>\n",
       "    <tr>\n",
       "      <td>4</td>\n",
       "      <td>parking</td>\n",
       "      <td>3.032439e+05</td>\n",
       "    </tr>\n",
       "    <tr>\n",
       "      <td>5</td>\n",
       "      <td>mainroad_yes</td>\n",
       "      <td>4.072344e+05</td>\n",
       "    </tr>\n",
       "    <tr>\n",
       "      <td>6</td>\n",
       "      <td>guestroom_yes</td>\n",
       "      <td>2.755412e+05</td>\n",
       "    </tr>\n",
       "    <tr>\n",
       "      <td>7</td>\n",
       "      <td>basement_yes</td>\n",
       "      <td>4.824786e+05</td>\n",
       "    </tr>\n",
       "    <tr>\n",
       "      <td>8</td>\n",
       "      <td>hotwaterheating_yes</td>\n",
       "      <td>6.128026e+05</td>\n",
       "    </tr>\n",
       "    <tr>\n",
       "      <td>9</td>\n",
       "      <td>airconditioning_yes</td>\n",
       "      <td>6.848393e+05</td>\n",
       "    </tr>\n",
       "    <tr>\n",
       "      <td>10</td>\n",
       "      <td>prefarea_yes</td>\n",
       "      <td>5.084821e+05</td>\n",
       "    </tr>\n",
       "    <tr>\n",
       "      <td>11</td>\n",
       "      <td>furnishingstatus_semi-furnished</td>\n",
       "      <td>-1.212280e+05</td>\n",
       "    </tr>\n",
       "    <tr>\n",
       "      <td>12</td>\n",
       "      <td>furnishingstatus_unfurnished</td>\n",
       "      <td>-3.907697e+05</td>\n",
       "    </tr>\n",
       "  </tbody>\n",
       "</table>\n",
       "</div>"
      ],
      "text/plain": [
       "                           Features        Coeffs\n",
       "0                              area  2.534433e+02\n",
       "1                          bedrooms  8.126434e+04\n",
       "2                         bathrooms  1.113253e+06\n",
       "3                           stories  4.174819e+05\n",
       "4                           parking  3.032439e+05\n",
       "5                      mainroad_yes  4.072344e+05\n",
       "6                     guestroom_yes  2.755412e+05\n",
       "7                      basement_yes  4.824786e+05\n",
       "8               hotwaterheating_yes  6.128026e+05\n",
       "9               airconditioning_yes  6.848393e+05\n",
       "10                     prefarea_yes  5.084821e+05\n",
       "11  furnishingstatus_semi-furnished -1.212280e+05\n",
       "12     furnishingstatus_unfurnished -3.907697e+05"
      ]
     },
     "execution_count": 137,
     "metadata": {},
     "output_type": "execute_result"
    }
   ],
   "source": [
    "pd.DataFrame(list(zip(x_train.columns,ridge.coef_)),columns=['Features','Coeffs'])"
   ]
  },
  {
   "cell_type": "markdown",
   "metadata": {},
   "source": [
    "## Useful when the model is overfit ... Here that is not the case."
   ]
  },
  {
   "cell_type": "code",
   "execution_count": null,
   "metadata": {},
   "outputs": [],
   "source": []
  }
 ],
 "metadata": {
  "kernelspec": {
   "display_name": "Python 3",
   "language": "python",
   "name": "python3"
  },
  "language_info": {
   "codemirror_mode": {
    "name": "ipython",
    "version": 3
   },
   "file_extension": ".py",
   "mimetype": "text/x-python",
   "name": "python",
   "nbconvert_exporter": "python",
   "pygments_lexer": "ipython3",
   "version": "3.7.3"
  }
 },
 "nbformat": 4,
 "nbformat_minor": 2
}
